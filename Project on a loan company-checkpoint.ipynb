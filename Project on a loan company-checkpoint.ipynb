{
 "cells": [
  {
   "cell_type": "markdown",
   "metadata": {},
   "source": [
    "# this is a data of a loan lending company. i will do some data analysis and also create a model to predict if a customer will pay back their loan or not\n"
   ]
  },
  {
   "cell_type": "code",
   "execution_count": 133,
   "metadata": {},
   "outputs": [],
   "source": [
    "import pandas as pd\n",
    "import numpy as np\n",
    "import matplotlib.pyplot as plt\n",
    "import seaborn as sns\n",
    "\n",
    "# might be needed depending on your version of Jupyter\n",
    "%matplotlib inline"
   ]
  },
  {
   "cell_type": "code",
   "execution_count": 3,
   "metadata": {},
   "outputs": [],
   "source": [
    "df = pd.read_csv('../DATA/lending_club_loan_two.csv')"
   ]
  },
  {
   "cell_type": "code",
   "execution_count": 4,
   "metadata": {},
   "outputs": [
    {
     "name": "stdout",
     "output_type": "stream",
     "text": [
      "<class 'pandas.core.frame.DataFrame'>\n",
      "RangeIndex: 396030 entries, 0 to 396029\n",
      "Data columns (total 27 columns):\n",
      " #   Column                Non-Null Count   Dtype  \n",
      "---  ------                --------------   -----  \n",
      " 0   loan_amnt             396030 non-null  float64\n",
      " 1   term                  396030 non-null  object \n",
      " 2   int_rate              396030 non-null  float64\n",
      " 3   installment           396030 non-null  float64\n",
      " 4   grade                 396030 non-null  object \n",
      " 5   sub_grade             396030 non-null  object \n",
      " 6   emp_title             373103 non-null  object \n",
      " 7   emp_length            377729 non-null  object \n",
      " 8   home_ownership        396030 non-null  object \n",
      " 9   annual_inc            396030 non-null  float64\n",
      " 10  verification_status   396030 non-null  object \n",
      " 11  issue_d               396030 non-null  object \n",
      " 12  loan_status           396030 non-null  object \n",
      " 13  purpose               396030 non-null  object \n",
      " 14  title                 394275 non-null  object \n",
      " 15  dti                   396030 non-null  float64\n",
      " 16  earliest_cr_line      396030 non-null  object \n",
      " 17  open_acc              396030 non-null  float64\n",
      " 18  pub_rec               396030 non-null  float64\n",
      " 19  revol_bal             396030 non-null  float64\n",
      " 20  revol_util            395754 non-null  float64\n",
      " 21  total_acc             396030 non-null  float64\n",
      " 22  initial_list_status   396030 non-null  object \n",
      " 23  application_type      396030 non-null  object \n",
      " 24  mort_acc              358235 non-null  float64\n",
      " 25  pub_rec_bankruptcies  395495 non-null  float64\n",
      " 26  address               396030 non-null  object \n",
      "dtypes: float64(12), object(15)\n",
      "memory usage: 81.6+ MB\n"
     ]
    }
   ],
   "source": [
    "df.info()"
   ]
  },
  {
   "cell_type": "code",
   "execution_count": 14,
   "metadata": {},
   "outputs": [
    {
     "data": {
      "text/html": [
       "<div>\n",
       "<style scoped>\n",
       "    .dataframe tbody tr th:only-of-type {\n",
       "        vertical-align: middle;\n",
       "    }\n",
       "\n",
       "    .dataframe tbody tr th {\n",
       "        vertical-align: top;\n",
       "    }\n",
       "\n",
       "    .dataframe thead th {\n",
       "        text-align: right;\n",
       "    }\n",
       "</style>\n",
       "<table border=\"1\" class=\"dataframe\">\n",
       "  <thead>\n",
       "    <tr style=\"text-align: right;\">\n",
       "      <th></th>\n",
       "      <th>count</th>\n",
       "      <th>mean</th>\n",
       "      <th>std</th>\n",
       "      <th>min</th>\n",
       "      <th>25%</th>\n",
       "      <th>50%</th>\n",
       "      <th>75%</th>\n",
       "      <th>max</th>\n",
       "    </tr>\n",
       "  </thead>\n",
       "  <tbody>\n",
       "    <tr>\n",
       "      <th>loan_amnt</th>\n",
       "      <td>396030.0</td>\n",
       "      <td>14113.888089</td>\n",
       "      <td>8357.441341</td>\n",
       "      <td>500.00</td>\n",
       "      <td>8000.00</td>\n",
       "      <td>12000.00</td>\n",
       "      <td>20000.00</td>\n",
       "      <td>40000.00</td>\n",
       "    </tr>\n",
       "    <tr>\n",
       "      <th>int_rate</th>\n",
       "      <td>396030.0</td>\n",
       "      <td>13.639400</td>\n",
       "      <td>4.472157</td>\n",
       "      <td>5.32</td>\n",
       "      <td>10.49</td>\n",
       "      <td>13.33</td>\n",
       "      <td>16.49</td>\n",
       "      <td>30.99</td>\n",
       "    </tr>\n",
       "    <tr>\n",
       "      <th>installment</th>\n",
       "      <td>396030.0</td>\n",
       "      <td>431.849698</td>\n",
       "      <td>250.727790</td>\n",
       "      <td>16.08</td>\n",
       "      <td>250.33</td>\n",
       "      <td>375.43</td>\n",
       "      <td>567.30</td>\n",
       "      <td>1533.81</td>\n",
       "    </tr>\n",
       "    <tr>\n",
       "      <th>annual_inc</th>\n",
       "      <td>396030.0</td>\n",
       "      <td>74203.175798</td>\n",
       "      <td>61637.621158</td>\n",
       "      <td>0.00</td>\n",
       "      <td>45000.00</td>\n",
       "      <td>64000.00</td>\n",
       "      <td>90000.00</td>\n",
       "      <td>8706582.00</td>\n",
       "    </tr>\n",
       "    <tr>\n",
       "      <th>dti</th>\n",
       "      <td>396030.0</td>\n",
       "      <td>17.379514</td>\n",
       "      <td>18.019092</td>\n",
       "      <td>0.00</td>\n",
       "      <td>11.28</td>\n",
       "      <td>16.91</td>\n",
       "      <td>22.98</td>\n",
       "      <td>9999.00</td>\n",
       "    </tr>\n",
       "    <tr>\n",
       "      <th>open_acc</th>\n",
       "      <td>396030.0</td>\n",
       "      <td>11.311153</td>\n",
       "      <td>5.137649</td>\n",
       "      <td>0.00</td>\n",
       "      <td>8.00</td>\n",
       "      <td>10.00</td>\n",
       "      <td>14.00</td>\n",
       "      <td>90.00</td>\n",
       "    </tr>\n",
       "    <tr>\n",
       "      <th>pub_rec</th>\n",
       "      <td>396030.0</td>\n",
       "      <td>0.178191</td>\n",
       "      <td>0.530671</td>\n",
       "      <td>0.00</td>\n",
       "      <td>0.00</td>\n",
       "      <td>0.00</td>\n",
       "      <td>0.00</td>\n",
       "      <td>86.00</td>\n",
       "    </tr>\n",
       "    <tr>\n",
       "      <th>revol_bal</th>\n",
       "      <td>396030.0</td>\n",
       "      <td>15844.539853</td>\n",
       "      <td>20591.836109</td>\n",
       "      <td>0.00</td>\n",
       "      <td>6025.00</td>\n",
       "      <td>11181.00</td>\n",
       "      <td>19620.00</td>\n",
       "      <td>1743266.00</td>\n",
       "    </tr>\n",
       "    <tr>\n",
       "      <th>revol_util</th>\n",
       "      <td>395754.0</td>\n",
       "      <td>53.791749</td>\n",
       "      <td>24.452193</td>\n",
       "      <td>0.00</td>\n",
       "      <td>35.80</td>\n",
       "      <td>54.80</td>\n",
       "      <td>72.90</td>\n",
       "      <td>892.30</td>\n",
       "    </tr>\n",
       "    <tr>\n",
       "      <th>total_acc</th>\n",
       "      <td>396030.0</td>\n",
       "      <td>25.414744</td>\n",
       "      <td>11.886991</td>\n",
       "      <td>2.00</td>\n",
       "      <td>17.00</td>\n",
       "      <td>24.00</td>\n",
       "      <td>32.00</td>\n",
       "      <td>151.00</td>\n",
       "    </tr>\n",
       "    <tr>\n",
       "      <th>mort_acc</th>\n",
       "      <td>358235.0</td>\n",
       "      <td>1.813991</td>\n",
       "      <td>2.147930</td>\n",
       "      <td>0.00</td>\n",
       "      <td>0.00</td>\n",
       "      <td>1.00</td>\n",
       "      <td>3.00</td>\n",
       "      <td>34.00</td>\n",
       "    </tr>\n",
       "    <tr>\n",
       "      <th>pub_rec_bankruptcies</th>\n",
       "      <td>395495.0</td>\n",
       "      <td>0.121648</td>\n",
       "      <td>0.356174</td>\n",
       "      <td>0.00</td>\n",
       "      <td>0.00</td>\n",
       "      <td>0.00</td>\n",
       "      <td>0.00</td>\n",
       "      <td>8.00</td>\n",
       "    </tr>\n",
       "  </tbody>\n",
       "</table>\n",
       "</div>"
      ],
      "text/plain": [
       "                         count          mean           std     min       25%  \\\n",
       "loan_amnt             396030.0  14113.888089   8357.441341  500.00   8000.00   \n",
       "int_rate              396030.0     13.639400      4.472157    5.32     10.49   \n",
       "installment           396030.0    431.849698    250.727790   16.08    250.33   \n",
       "annual_inc            396030.0  74203.175798  61637.621158    0.00  45000.00   \n",
       "dti                   396030.0     17.379514     18.019092    0.00     11.28   \n",
       "open_acc              396030.0     11.311153      5.137649    0.00      8.00   \n",
       "pub_rec               396030.0      0.178191      0.530671    0.00      0.00   \n",
       "revol_bal             396030.0  15844.539853  20591.836109    0.00   6025.00   \n",
       "revol_util            395754.0     53.791749     24.452193    0.00     35.80   \n",
       "total_acc             396030.0     25.414744     11.886991    2.00     17.00   \n",
       "mort_acc              358235.0      1.813991      2.147930    0.00      0.00   \n",
       "pub_rec_bankruptcies  395495.0      0.121648      0.356174    0.00      0.00   \n",
       "\n",
       "                           50%       75%         max  \n",
       "loan_amnt             12000.00  20000.00    40000.00  \n",
       "int_rate                 13.33     16.49       30.99  \n",
       "installment             375.43    567.30     1533.81  \n",
       "annual_inc            64000.00  90000.00  8706582.00  \n",
       "dti                      16.91     22.98     9999.00  \n",
       "open_acc                 10.00     14.00       90.00  \n",
       "pub_rec                   0.00      0.00       86.00  \n",
       "revol_bal             11181.00  19620.00  1743266.00  \n",
       "revol_util               54.80     72.90      892.30  \n",
       "total_acc                24.00     32.00      151.00  \n",
       "mort_acc                  1.00      3.00       34.00  \n",
       "pub_rec_bankruptcies      0.00      0.00        8.00  "
      ]
     },
     "execution_count": 14,
     "metadata": {},
     "output_type": "execute_result"
    }
   ],
   "source": [
    "df.describe().transpose()"
   ]
  },
  {
   "cell_type": "code",
   "execution_count": 15,
   "metadata": {},
   "outputs": [
    {
     "data": {
      "text/plain": [
       "<matplotlib.axes._subplots.AxesSubplot at 0x89c961da30>"
      ]
     },
     "execution_count": 15,
     "metadata": {},
     "output_type": "execute_result"
    },
    {
     "data": {
      "image/png": "[encoded data removed]",
      "text/plain": [
       "<Figure size 432x288 with 1 Axes>"
      ]
     },
     "metadata": {
      "needs_background": "light"
     },
     "output_type": "display_data"
    }
   ],
   "source": [
    "sns.countplot(x='loan_status',data=df)"
   ]
  },
  {
   "cell_type": "code",
   "execution_count": 34,
   "metadata": {},
   "outputs": [
    {
     "data": {
      "text/plain": [
       "<matplotlib.axes._subplots.AxesSubplot at 0x5f8684a670>"
      ]
     },
     "execution_count": 34,
     "metadata": {},
     "output_type": "execute_result"
    },
    {
     "data": {
      "image/png": "[encoded data removed]",
      "text/plain": [
       "<Figure size 864x288 with 1 Axes>"
      ]
     },
     "metadata": {
      "needs_background": "light"
     },
     "output_type": "display_data"
    }
   ],
   "source": [
    "plt.figure(figsize=(12,4))\n",
    "#df['loan_amnt'].plot.hist(bins=50)\n",
    "sns.distplot(df['loan_amnt'],kde=False,bins=40)"
   ]
  },
  {
   "cell_type": "code",
   "execution_count": 29,
   "metadata": {},
   "outputs": [
    {
     "data": {
      "text/html": [
       "<div>\n",
       "<style scoped>\n",
       "    .dataframe tbody tr th:only-of-type {\n",
       "        vertical-align: middle;\n",
       "    }\n",
       "\n",
       "    .dataframe tbody tr th {\n",
       "        vertical-align: top;\n",
       "    }\n",
       "\n",
       "    .dataframe thead th {\n",
       "        text-align: right;\n",
       "    }\n",
       "</style>\n",
       "<table border=\"1\" class=\"dataframe\">\n",
       "  <thead>\n",
       "    <tr style=\"text-align: right;\">\n",
       "      <th></th>\n",
       "      <th>loan_amnt</th>\n",
       "      <th>int_rate</th>\n",
       "      <th>installment</th>\n",
       "      <th>annual_inc</th>\n",
       "      <th>dti</th>\n",
       "      <th>open_acc</th>\n",
       "      <th>pub_rec</th>\n",
       "      <th>revol_bal</th>\n",
       "      <th>revol_util</th>\n",
       "      <th>total_acc</th>\n",
       "      <th>mort_acc</th>\n",
       "      <th>pub_rec_bankruptcies</th>\n",
       "    </tr>\n",
       "  </thead>\n",
       "  <tbody>\n",
       "    <tr>\n",
       "      <th>loan_amnt</th>\n",
       "      <td>1.000000</td>\n",
       "      <td>0.168921</td>\n",
       "      <td>0.953929</td>\n",
       "      <td>0.336887</td>\n",
       "      <td>0.016636</td>\n",
       "      <td>0.198556</td>\n",
       "      <td>-0.077779</td>\n",
       "      <td>0.328320</td>\n",
       "      <td>0.099911</td>\n",
       "      <td>0.223886</td>\n",
       "      <td>0.222315</td>\n",
       "      <td>-0.106539</td>\n",
       "    </tr>\n",
       "    <tr>\n",
       "      <th>int_rate</th>\n",
       "      <td>0.168921</td>\n",
       "      <td>1.000000</td>\n",
       "      <td>0.162758</td>\n",
       "      <td>-0.056771</td>\n",
       "      <td>0.079038</td>\n",
       "      <td>0.011649</td>\n",
       "      <td>0.060986</td>\n",
       "      <td>-0.011280</td>\n",
       "      <td>0.293659</td>\n",
       "      <td>-0.036404</td>\n",
       "      <td>-0.082583</td>\n",
       "      <td>0.057450</td>\n",
       "    </tr>\n",
       "    <tr>\n",
       "      <th>installment</th>\n",
       "      <td>0.953929</td>\n",
       "      <td>0.162758</td>\n",
       "      <td>1.000000</td>\n",
       "      <td>0.330381</td>\n",
       "      <td>0.015786</td>\n",
       "      <td>0.188973</td>\n",
       "      <td>-0.067892</td>\n",
       "      <td>0.316455</td>\n",
       "      <td>0.123915</td>\n",
       "      <td>0.202430</td>\n",
       "      <td>0.193694</td>\n",
       "      <td>-0.098628</td>\n",
       "    </tr>\n",
       "    <tr>\n",
       "      <th>annual_inc</th>\n",
       "      <td>0.336887</td>\n",
       "      <td>-0.056771</td>\n",
       "      <td>0.330381</td>\n",
       "      <td>1.000000</td>\n",
       "      <td>-0.081685</td>\n",
       "      <td>0.136150</td>\n",
       "      <td>-0.013720</td>\n",
       "      <td>0.299773</td>\n",
       "      <td>0.027871</td>\n",
       "      <td>0.193023</td>\n",
       "      <td>0.236320</td>\n",
       "      <td>-0.050162</td>\n",
       "    </tr>\n",
       "    <tr>\n",
       "      <th>dti</th>\n",
       "      <td>0.016636</td>\n",
       "      <td>0.079038</td>\n",
       "      <td>0.015786</td>\n",
       "      <td>-0.081685</td>\n",
       "      <td>1.000000</td>\n",
       "      <td>0.136181</td>\n",
       "      <td>-0.017639</td>\n",
       "      <td>0.063571</td>\n",
       "      <td>0.088375</td>\n",
       "      <td>0.102128</td>\n",
       "      <td>-0.025439</td>\n",
       "      <td>-0.014558</td>\n",
       "    </tr>\n",
       "    <tr>\n",
       "      <th>open_acc</th>\n",
       "      <td>0.198556</td>\n",
       "      <td>0.011649</td>\n",
       "      <td>0.188973</td>\n",
       "      <td>0.136150</td>\n",
       "      <td>0.136181</td>\n",
       "      <td>1.000000</td>\n",
       "      <td>-0.018392</td>\n",
       "      <td>0.221192</td>\n",
       "      <td>-0.131420</td>\n",
       "      <td>0.680728</td>\n",
       "      <td>0.109205</td>\n",
       "      <td>-0.027732</td>\n",
       "    </tr>\n",
       "    <tr>\n",
       "      <th>pub_rec</th>\n",
       "      <td>-0.077779</td>\n",
       "      <td>0.060986</td>\n",
       "      <td>-0.067892</td>\n",
       "      <td>-0.013720</td>\n",
       "      <td>-0.017639</td>\n",
       "      <td>-0.018392</td>\n",
       "      <td>1.000000</td>\n",
       "      <td>-0.101664</td>\n",
       "      <td>-0.075910</td>\n",
       "      <td>0.019723</td>\n",
       "      <td>0.011552</td>\n",
       "      <td>0.699408</td>\n",
       "    </tr>\n",
       "    <tr>\n",
       "      <th>revol_bal</th>\n",
       "      <td>0.328320</td>\n",
       "      <td>-0.011280</td>\n",
       "      <td>0.316455</td>\n",
       "      <td>0.299773</td>\n",
       "      <td>0.063571</td>\n",
       "      <td>0.221192</td>\n",
       "      <td>-0.101664</td>\n",
       "      <td>1.000000</td>\n",
       "      <td>0.226346</td>\n",
       "      <td>0.191616</td>\n",
       "      <td>0.194925</td>\n",
       "      <td>-0.124532</td>\n",
       "    </tr>\n",
       "    <tr>\n",
       "      <th>revol_util</th>\n",
       "      <td>0.099911</td>\n",
       "      <td>0.293659</td>\n",
       "      <td>0.123915</td>\n",
       "      <td>0.027871</td>\n",
       "      <td>0.088375</td>\n",
       "      <td>-0.131420</td>\n",
       "      <td>-0.075910</td>\n",
       "      <td>0.226346</td>\n",
       "      <td>1.000000</td>\n",
       "      <td>-0.104273</td>\n",
       "      <td>0.007514</td>\n",
       "      <td>-0.086751</td>\n",
       "    </tr>\n",
       "    <tr>\n",
       "      <th>total_acc</th>\n",
       "      <td>0.223886</td>\n",
       "      <td>-0.036404</td>\n",
       "      <td>0.202430</td>\n",
       "      <td>0.193023</td>\n",
       "      <td>0.102128</td>\n",
       "      <td>0.680728</td>\n",
       "      <td>0.019723</td>\n",
       "      <td>0.191616</td>\n",
       "      <td>-0.104273</td>\n",
       "      <td>1.000000</td>\n",
       "      <td>0.381072</td>\n",
       "      <td>0.042035</td>\n",
       "    </tr>\n",
       "    <tr>\n",
       "      <th>mort_acc</th>\n",
       "      <td>0.222315</td>\n",
       "      <td>-0.082583</td>\n",
       "      <td>0.193694</td>\n",
       "      <td>0.236320</td>\n",
       "      <td>-0.025439</td>\n",
       "      <td>0.109205</td>\n",
       "      <td>0.011552</td>\n",
       "      <td>0.194925</td>\n",
       "      <td>0.007514</td>\n",
       "      <td>0.381072</td>\n",
       "      <td>1.000000</td>\n",
       "      <td>0.027239</td>\n",
       "    </tr>\n",
       "    <tr>\n",
       "      <th>pub_rec_bankruptcies</th>\n",
       "      <td>-0.106539</td>\n",
       "      <td>0.057450</td>\n",
       "      <td>-0.098628</td>\n",
       "      <td>-0.050162</td>\n",
       "      <td>-0.014558</td>\n",
       "      <td>-0.027732</td>\n",
       "      <td>0.699408</td>\n",
       "      <td>-0.124532</td>\n",
       "      <td>-0.086751</td>\n",
       "      <td>0.042035</td>\n",
       "      <td>0.027239</td>\n",
       "      <td>1.000000</td>\n",
       "    </tr>\n",
       "  </tbody>\n",
       "</table>\n",
       "</div>"
      ],
      "text/plain": [
       "                      loan_amnt  int_rate  installment  annual_inc       dti  \\\n",
       "loan_amnt              1.000000  0.168921     0.953929    0.336887  0.016636   \n",
       "int_rate               0.168921  1.000000     0.162758   -0.056771  0.079038   \n",
       "installment            0.953929  0.162758     1.000000    0.330381  0.015786   \n",
       "annual_inc             0.336887 -0.056771     0.330381    1.000000 -0.081685   \n",
       "dti                    0.016636  0.079038     0.015786   -0.081685  1.000000   \n",
       "open_acc               0.198556  0.011649     0.188973    0.136150  0.136181   \n",
       "pub_rec               -0.077779  0.060986    -0.067892   -0.013720 -0.017639   \n",
       "revol_bal              0.328320 -0.011280     0.316455    0.299773  0.063571   \n",
       "revol_util             0.099911  0.293659     0.123915    0.027871  0.088375   \n",
       "total_acc              0.223886 -0.036404     0.202430    0.193023  0.102128   \n",
       "mort_acc               0.222315 -0.082583     0.193694    0.236320 -0.025439   \n",
       "pub_rec_bankruptcies  -0.106539  0.057450    -0.098628   -0.050162 -0.014558   \n",
       "\n",
       "                      open_acc   pub_rec  revol_bal  revol_util  total_acc  \\\n",
       "loan_amnt             0.198556 -0.077779   0.328320    0.099911   0.223886   \n",
       "int_rate              0.011649  0.060986  -0.011280    0.293659  -0.036404   \n",
       "installment           0.188973 -0.067892   0.316455    0.123915   0.202430   \n",
       "annual_inc            0.136150 -0.013720   0.299773    0.027871   0.193023   \n",
       "dti                   0.136181 -0.017639   0.063571    0.088375   0.102128   \n",
       "open_acc              1.000000 -0.018392   0.221192   -0.131420   0.680728   \n",
       "pub_rec              -0.018392  1.000000  -0.101664   -0.075910   0.019723   \n",
       "revol_bal             0.221192 -0.101664   1.000000    0.226346   0.191616   \n",
       "revol_util           -0.131420 -0.075910   0.226346    1.000000  -0.104273   \n",
       "total_acc             0.680728  0.019723   0.191616   -0.104273   1.000000   \n",
       "mort_acc              0.109205  0.011552   0.194925    0.007514   0.381072   \n",
       "pub_rec_bankruptcies -0.027732  0.699408  -0.124532   -0.086751   0.042035   \n",
       "\n",
       "                      mort_acc  pub_rec_bankruptcies  \n",
       "loan_amnt             0.222315             -0.106539  \n",
       "int_rate             -0.082583              0.057450  \n",
       "installment           0.193694             -0.098628  \n",
       "annual_inc            0.236320             -0.050162  \n",
       "dti                  -0.025439             -0.014558  \n",
       "open_acc              0.109205             -0.027732  \n",
       "pub_rec               0.011552              0.699408  \n",
       "revol_bal             0.194925             -0.124532  \n",
       "revol_util            0.007514             -0.086751  \n",
       "total_acc             0.381072              0.042035  \n",
       "mort_acc              1.000000              0.027239  \n",
       "pub_rec_bankruptcies  0.027239              1.000000  "
      ]
     },
     "execution_count": 29,
     "metadata": {},
     "output_type": "execute_result"
    }
   ],
   "source": [
    "df.corr()"
   ]
  },
  {
   "cell_type": "code",
   "execution_count": 35,
   "metadata": {},
   "outputs": [
    {
     "data": {
      "text/plain": [
       "<matplotlib.axes._subplots.AxesSubplot at 0x5f869839a0>"
      ]
     },
     "execution_count": 35,
     "metadata": {},
     "output_type": "execute_result"
    },
    {
     "data": {
      "image/png": "[encoded data removed]",
      "text/plain": [
       "<Figure size 720x360 with 2 Axes>"
      ]
     },
     "metadata": {
      "needs_background": "light"
     },
     "output_type": "display_data"
    }
   ],
   "source": [
    "plt.figure(figsize=(10,5))\n",
    "sns.heatmap(df.corr(),annot=True,cmap='viridis')"
   ]
  },
  {
   "cell_type": "code",
   "execution_count": null,
   "metadata": {},
   "outputs": [],
   "source": []
  },
  {
   "cell_type": "code",
   "execution_count": null,
   "metadata": {},
   "outputs": [],
   "source": []
  },
  {
   "cell_type": "code",
   "execution_count": 39,
   "metadata": {},
   "outputs": [
    {
     "data": {
      "text/plain": [
       "<matplotlib.axes._subplots.AxesSubplot at 0x89e7790f70>"
      ]
     },
     "execution_count": 39,
     "metadata": {},
     "output_type": "execute_result"
    },
    {
     "data": {
      "image/png": "[encoded data removed]",
      "text/plain": [
       "<Figure size 432x288 with 1 Axes>"
      ]
     },
     "metadata": {
      "needs_background": "light"
     },
     "output_type": "display_data"
    }
   ],
   "source": [
    "sns.scatterplot(x='installment',y='loan_amnt',data=df)"
   ]
  },
  {
   "cell_type": "code",
   "execution_count": 43,
   "metadata": {},
   "outputs": [
    {
     "data": {
      "text/plain": [
       "<matplotlib.axes._subplots.AxesSubplot at 0x89e81c24c0>"
      ]
     },
     "execution_count": 43,
     "metadata": {},
     "output_type": "execute_result"
    },
    {
     "data": {
      "image/png": "[encoded data removed]",
      "text/plain": [
       "<Figure size 432x288 with 1 Axes>"
      ]
     },
     "metadata": {
      "needs_background": "light"
     },
     "output_type": "display_data"
    }
   ],
   "source": [
    "sns.boxplot(x='loan_status',y='loan_amnt',data=df)"
   ]
  },
  {
   "cell_type": "code",
   "execution_count": 42,
   "metadata": {},
   "outputs": [
    {
     "data": {
      "text/html": [
       "<div>\n",
       "<style scoped>\n",
       "    .dataframe tbody tr th:only-of-type {\n",
       "        vertical-align: middle;\n",
       "    }\n",
       "\n",
       "    .dataframe tbody tr th {\n",
       "        vertical-align: top;\n",
       "    }\n",
       "\n",
       "    .dataframe thead th {\n",
       "        text-align: right;\n",
       "    }\n",
       "</style>\n",
       "<table border=\"1\" class=\"dataframe\">\n",
       "  <thead>\n",
       "    <tr style=\"text-align: right;\">\n",
       "      <th></th>\n",
       "      <th>count</th>\n",
       "      <th>mean</th>\n",
       "      <th>std</th>\n",
       "      <th>min</th>\n",
       "      <th>25%</th>\n",
       "      <th>50%</th>\n",
       "      <th>75%</th>\n",
       "      <th>max</th>\n",
       "    </tr>\n",
       "    <tr>\n",
       "      <th>loan_status</th>\n",
       "      <th></th>\n",
       "      <th></th>\n",
       "      <th></th>\n",
       "      <th></th>\n",
       "      <th></th>\n",
       "      <th></th>\n",
       "      <th></th>\n",
       "      <th></th>\n",
       "    </tr>\n",
       "  </thead>\n",
       "  <tbody>\n",
       "    <tr>\n",
       "      <th>Charged Off</th>\n",
       "      <td>77673.0</td>\n",
       "      <td>15126.300967</td>\n",
       "      <td>8505.090557</td>\n",
       "      <td>1000.0</td>\n",
       "      <td>8525.0</td>\n",
       "      <td>14000.0</td>\n",
       "      <td>20000.0</td>\n",
       "      <td>40000.0</td>\n",
       "    </tr>\n",
       "    <tr>\n",
       "      <th>Fully Paid</th>\n",
       "      <td>318357.0</td>\n",
       "      <td>13866.878771</td>\n",
       "      <td>8302.319699</td>\n",
       "      <td>500.0</td>\n",
       "      <td>7500.0</td>\n",
       "      <td>12000.0</td>\n",
       "      <td>19225.0</td>\n",
       "      <td>40000.0</td>\n",
       "    </tr>\n",
       "  </tbody>\n",
       "</table>\n",
       "</div>"
      ],
      "text/plain": [
       "                count          mean          std     min     25%      50%  \\\n",
       "loan_status                                                                 \n",
       "Charged Off   77673.0  15126.300967  8505.090557  1000.0  8525.0  14000.0   \n",
       "Fully Paid   318357.0  13866.878771  8302.319699   500.0  7500.0  12000.0   \n",
       "\n",
       "                 75%      max  \n",
       "loan_status                    \n",
       "Charged Off  20000.0  40000.0  \n",
       "Fully Paid   19225.0  40000.0  "
      ]
     },
     "execution_count": 42,
     "metadata": {},
     "output_type": "execute_result"
    }
   ],
   "source": [
    "#df['loan_status']['loan_amnt'].groupby().mean()\n",
    "df.groupby('loan_status')['loan_amnt'].describe()"
   ]
  },
  {
   "cell_type": "code",
   "execution_count": 44,
   "metadata": {},
   "outputs": [
    {
     "data": {
      "text/plain": [
       "array(['A', 'B', 'C', 'D', 'E', 'F', 'G'], dtype=object)"
      ]
     },
     "execution_count": 44,
     "metadata": {},
     "output_type": "execute_result"
    }
   ],
   "source": [
    "df['grade'].sort_values().unique()"
   ]
  },
  {
   "cell_type": "code",
   "execution_count": 12,
   "metadata": {},
   "outputs": [
    {
     "data": {
      "text/plain": [
       "['A1',\n",
       " 'A2',\n",
       " 'A3',\n",
       " 'A4',\n",
       " 'A5',\n",
       " 'B1',\n",
       " 'B2',\n",
       " 'B3',\n",
       " 'B4',\n",
       " 'B5',\n",
       " 'C1',\n",
       " 'C2',\n",
       " 'C3',\n",
       " 'C4',\n",
       " 'C5',\n",
       " 'D1',\n",
       " 'D2',\n",
       " 'D3',\n",
       " 'D4',\n",
       " 'D5',\n",
       " 'E1',\n",
       " 'E2',\n",
       " 'E3',\n",
       " 'E4',\n",
       " 'E5',\n",
       " 'F1',\n",
       " 'F2',\n",
       " 'F3',\n",
       " 'F4',\n",
       " 'F5',\n",
       " 'G1',\n",
       " 'G2',\n",
       " 'G3',\n",
       " 'G4',\n",
       " 'G5']"
      ]
     },
     "execution_count": 12,
     "metadata": {},
     "output_type": "execute_result"
    }
   ],
   "source": [
    "#df['sub_grade'].sort_values().unique()\n",
    "sorted(df['sub_grade'].unique())"
   ]
  },
  {
   "cell_type": "code",
   "execution_count": 6,
   "metadata": {},
   "outputs": [
    {
     "data": {
      "text/plain": [
       "<matplotlib.axes._subplots.AxesSubplot at 0x5feed7e580>"
      ]
     },
     "execution_count": 6,
     "metadata": {},
     "output_type": "execute_result"
    },
    {
     "data": {
      "image/png": "[encoded data removed]",
      "text/plain": [
       "<Figure size 432x288 with 1 Axes>"
      ]
     },
     "metadata": {
      "needs_background": "light"
     },
     "output_type": "display_data"
    }
   ],
   "source": [
    "sns.countplot(x='grade',data=df,hue='loan_status')"
   ]
  },
  {
   "cell_type": "code",
   "execution_count": 14,
   "metadata": {},
   "outputs": [
    {
     "data": {
      "text/plain": [
       "<matplotlib.axes._subplots.AxesSubplot at 0x5f84c1a7f0>"
      ]
     },
     "execution_count": 14,
     "metadata": {},
     "output_type": "execute_result"
    },
    {
     "data": {
      "image/png": "[encoded data removed]",
      "text/plain": [
       "<Figure size 864x288 with 1 Axes>"
      ]
     },
     "metadata": {
      "needs_background": "light"
     },
     "output_type": "display_data"
    }
   ],
   "source": [
    "plt.figure(figsize=(12,4))\n",
    "subgrade_order = sorted(df['sub_grade'].unique())\n",
    "sns.countplot(x='sub_grade',data=df,order = subgrade_order,palette='coolwarm' )"
   ]
  },
  {
   "cell_type": "code",
   "execution_count": 15,
   "metadata": {},
   "outputs": [
    {
     "data": {
      "text/plain": [
       "<matplotlib.axes._subplots.AxesSubplot at 0x5f84bdf460>"
      ]
     },
     "execution_count": 15,
     "metadata": {},
     "output_type": "execute_result"
    },
    {
     "data": {
      "image/png": "[encoded data removed]",
      "text/plain": [
       "<Figure size 864x288 with 1 Axes>"
      ]
     },
     "metadata": {
      "needs_background": "light"
     },
     "output_type": "display_data"
    }
   ],
   "source": [
    "plt.figure(figsize=(12,4))\n",
    "sort_new = sorted(df['sub_grade'].unique())\n",
    "sns.countplot(x='sub_grade',data=df,order = sort_new,palette='coolwarm',hue='loan_status')"
   ]
  },
  {
   "cell_type": "code",
   "execution_count": 46,
   "metadata": {},
   "outputs": [
    {
     "data": {
      "text/plain": [
       "<matplotlib.axes._subplots.AxesSubplot at 0x5f86f88c40>"
      ]
     },
     "execution_count": 46,
     "metadata": {},
     "output_type": "execute_result"
    },
    {
     "data": {
      "image/png": "[encoded data removed]",
      "text/plain": [
       "<Figure size 864x288 with 1 Axes>"
      ]
     },
     "metadata": {
      "needs_background": "light"
     },
     "output_type": "display_data"
    }
   ],
   "source": [
    "f_and_g = df[(df['grade']=='G') | (df['grade']=='F')]\n",
    "\n",
    "plt.figure(figsize=(12,4))\n",
    "subgrade_order = sorted(f_and_g['sub_grade'].unique())\n",
    "sns.countplot(x='sub_grade',data=f_and_g,order = subgrade_order,palette='coolwarm',hue='loan_status' )"
   ]
  },
  {
   "cell_type": "code",
   "execution_count": 50,
   "metadata": {},
   "outputs": [],
   "source": [
    "df['loan_repaid'] = df['loan_status'].map({'Fully Paid':1, 'Charged Off':0})"
   ]
  },
  {
   "cell_type": "code",
   "execution_count": 51,
   "metadata": {},
   "outputs": [
    {
     "data": {
      "text/html": [
       "<div>\n",
       "<style scoped>\n",
       "    .dataframe tbody tr th:only-of-type {\n",
       "        vertical-align: middle;\n",
       "    }\n",
       "\n",
       "    .dataframe tbody tr th {\n",
       "        vertical-align: top;\n",
       "    }\n",
       "\n",
       "    .dataframe thead th {\n",
       "        text-align: right;\n",
       "    }\n",
       "</style>\n",
       "<table border=\"1\" class=\"dataframe\">\n",
       "  <thead>\n",
       "    <tr style=\"text-align: right;\">\n",
       "      <th></th>\n",
       "      <th>loan_repaid</th>\n",
       "      <th>loan_status</th>\n",
       "    </tr>\n",
       "  </thead>\n",
       "  <tbody>\n",
       "    <tr>\n",
       "      <th>0</th>\n",
       "      <td>1</td>\n",
       "      <td>Fully Paid</td>\n",
       "    </tr>\n",
       "    <tr>\n",
       "      <th>1</th>\n",
       "      <td>1</td>\n",
       "      <td>Fully Paid</td>\n",
       "    </tr>\n",
       "    <tr>\n",
       "      <th>2</th>\n",
       "      <td>1</td>\n",
       "      <td>Fully Paid</td>\n",
       "    </tr>\n",
       "    <tr>\n",
       "      <th>3</th>\n",
       "      <td>1</td>\n",
       "      <td>Fully Paid</td>\n",
       "    </tr>\n",
       "    <tr>\n",
       "      <th>4</th>\n",
       "      <td>0</td>\n",
       "      <td>Charged Off</td>\n",
       "    </tr>\n",
       "    <tr>\n",
       "      <th>...</th>\n",
       "      <td>...</td>\n",
       "      <td>...</td>\n",
       "    </tr>\n",
       "    <tr>\n",
       "      <th>396025</th>\n",
       "      <td>1</td>\n",
       "      <td>Fully Paid</td>\n",
       "    </tr>\n",
       "    <tr>\n",
       "      <th>396026</th>\n",
       "      <td>1</td>\n",
       "      <td>Fully Paid</td>\n",
       "    </tr>\n",
       "    <tr>\n",
       "      <th>396027</th>\n",
       "      <td>1</td>\n",
       "      <td>Fully Paid</td>\n",
       "    </tr>\n",
       "    <tr>\n",
       "      <th>396028</th>\n",
       "      <td>1</td>\n",
       "      <td>Fully Paid</td>\n",
       "    </tr>\n",
       "    <tr>\n",
       "      <th>396029</th>\n",
       "      <td>1</td>\n",
       "      <td>Fully Paid</td>\n",
       "    </tr>\n",
       "  </tbody>\n",
       "</table>\n",
       "<p>396030 rows × 2 columns</p>\n",
       "</div>"
      ],
      "text/plain": [
       "        loan_repaid  loan_status\n",
       "0                 1   Fully Paid\n",
       "1                 1   Fully Paid\n",
       "2                 1   Fully Paid\n",
       "3                 1   Fully Paid\n",
       "4                 0  Charged Off\n",
       "...             ...          ...\n",
       "396025            1   Fully Paid\n",
       "396026            1   Fully Paid\n",
       "396027            1   Fully Paid\n",
       "396028            1   Fully Paid\n",
       "396029            1   Fully Paid\n",
       "\n",
       "[396030 rows x 2 columns]"
      ]
     },
     "execution_count": 51,
     "metadata": {},
     "output_type": "execute_result"
    }
   ],
   "source": [
    "df[['loan_repaid', 'loan_status']]"
   ]
  },
  {
   "cell_type": "code",
   "execution_count": 54,
   "metadata": {},
   "outputs": [
    {
     "data": {
      "text/plain": [
       "<matplotlib.axes._subplots.AxesSubplot at 0x5f84f2bbe0>"
      ]
     },
     "execution_count": 54,
     "metadata": {},
     "output_type": "execute_result"
    },
    {
     "data": {
      "image/png": "[encoded data removed]",
      "text/plain": [
       "<Figure size 432x288 with 1 Axes>"
      ]
     },
     "metadata": {
      "needs_background": "light"
     },
     "output_type": "display_data"
    }
   ],
   "source": [
    "df.corr()['loan_repaid'].sort_values().drop('loan_repaid').plot(kind='bar')"
   ]
  },
  {
   "cell_type": "markdown",
   "metadata": {},
   "source": [
    "# Data Preprocessing: Missing Data. Remove or Fill in the missing Data"
   ]
  },
  {
   "cell_type": "code",
   "execution_count": 56,
   "metadata": {},
   "outputs": [
    {
     "data": {
      "text/html": [
       "<div>\n",
       "<style scoped>\n",
       "    .dataframe tbody tr th:only-of-type {\n",
       "        vertical-align: middle;\n",
       "    }\n",
       "\n",
       "    .dataframe tbody tr th {\n",
       "        vertical-align: top;\n",
       "    }\n",
       "\n",
       "    .dataframe thead th {\n",
       "        text-align: right;\n",
       "    }\n",
       "</style>\n",
       "<table border=\"1\" class=\"dataframe\">\n",
       "  <thead>\n",
       "    <tr style=\"text-align: right;\">\n",
       "      <th></th>\n",
       "      <th>loan_amnt</th>\n",
       "      <th>term</th>\n",
       "      <th>int_rate</th>\n",
       "      <th>installment</th>\n",
       "      <th>grade</th>\n",
       "      <th>sub_grade</th>\n",
       "      <th>emp_title</th>\n",
       "      <th>emp_length</th>\n",
       "      <th>home_ownership</th>\n",
       "      <th>annual_inc</th>\n",
       "      <th>...</th>\n",
       "      <th>pub_rec</th>\n",
       "      <th>revol_bal</th>\n",
       "      <th>revol_util</th>\n",
       "      <th>total_acc</th>\n",
       "      <th>initial_list_status</th>\n",
       "      <th>application_type</th>\n",
       "      <th>mort_acc</th>\n",
       "      <th>pub_rec_bankruptcies</th>\n",
       "      <th>address</th>\n",
       "      <th>loan_repaid</th>\n",
       "    </tr>\n",
       "  </thead>\n",
       "  <tbody>\n",
       "    <tr>\n",
       "      <th>0</th>\n",
       "      <td>10000.0</td>\n",
       "      <td>36 months</td>\n",
       "      <td>11.44</td>\n",
       "      <td>329.48</td>\n",
       "      <td>B</td>\n",
       "      <td>B4</td>\n",
       "      <td>Marketing</td>\n",
       "      <td>10+ years</td>\n",
       "      <td>RENT</td>\n",
       "      <td>117000.0</td>\n",
       "      <td>...</td>\n",
       "      <td>0.0</td>\n",
       "      <td>36369.0</td>\n",
       "      <td>41.8</td>\n",
       "      <td>25.0</td>\n",
       "      <td>w</td>\n",
       "      <td>INDIVIDUAL</td>\n",
       "      <td>0.0</td>\n",
       "      <td>0.0</td>\n",
       "      <td>0174 Michelle Gateway\\nMendozaberg, OK 22690</td>\n",
       "      <td>1</td>\n",
       "    </tr>\n",
       "    <tr>\n",
       "      <th>1</th>\n",
       "      <td>8000.0</td>\n",
       "      <td>36 months</td>\n",
       "      <td>11.99</td>\n",
       "      <td>265.68</td>\n",
       "      <td>B</td>\n",
       "      <td>B5</td>\n",
       "      <td>Credit analyst</td>\n",
       "      <td>4 years</td>\n",
       "      <td>MORTGAGE</td>\n",
       "      <td>65000.0</td>\n",
       "      <td>...</td>\n",
       "      <td>0.0</td>\n",
       "      <td>20131.0</td>\n",
       "      <td>53.3</td>\n",
       "      <td>27.0</td>\n",
       "      <td>f</td>\n",
       "      <td>INDIVIDUAL</td>\n",
       "      <td>3.0</td>\n",
       "      <td>0.0</td>\n",
       "      <td>1076 Carney Fort Apt. 347\\nLoganmouth, SD 05113</td>\n",
       "      <td>1</td>\n",
       "    </tr>\n",
       "    <tr>\n",
       "      <th>2</th>\n",
       "      <td>15600.0</td>\n",
       "      <td>36 months</td>\n",
       "      <td>10.49</td>\n",
       "      <td>506.97</td>\n",
       "      <td>B</td>\n",
       "      <td>B3</td>\n",
       "      <td>Statistician</td>\n",
       "      <td>&lt; 1 year</td>\n",
       "      <td>RENT</td>\n",
       "      <td>43057.0</td>\n",
       "      <td>...</td>\n",
       "      <td>0.0</td>\n",
       "      <td>11987.0</td>\n",
       "      <td>92.2</td>\n",
       "      <td>26.0</td>\n",
       "      <td>f</td>\n",
       "      <td>INDIVIDUAL</td>\n",
       "      <td>0.0</td>\n",
       "      <td>0.0</td>\n",
       "      <td>87025 Mark Dale Apt. 269\\nNew Sabrina, WV 05113</td>\n",
       "      <td>1</td>\n",
       "    </tr>\n",
       "    <tr>\n",
       "      <th>3</th>\n",
       "      <td>7200.0</td>\n",
       "      <td>36 months</td>\n",
       "      <td>6.49</td>\n",
       "      <td>220.65</td>\n",
       "      <td>A</td>\n",
       "      <td>A2</td>\n",
       "      <td>Client Advocate</td>\n",
       "      <td>6 years</td>\n",
       "      <td>RENT</td>\n",
       "      <td>54000.0</td>\n",
       "      <td>...</td>\n",
       "      <td>0.0</td>\n",
       "      <td>5472.0</td>\n",
       "      <td>21.5</td>\n",
       "      <td>13.0</td>\n",
       "      <td>f</td>\n",
       "      <td>INDIVIDUAL</td>\n",
       "      <td>0.0</td>\n",
       "      <td>0.0</td>\n",
       "      <td>823 Reid Ford\\nDelacruzside, MA 00813</td>\n",
       "      <td>1</td>\n",
       "    </tr>\n",
       "    <tr>\n",
       "      <th>4</th>\n",
       "      <td>24375.0</td>\n",
       "      <td>60 months</td>\n",
       "      <td>17.27</td>\n",
       "      <td>609.33</td>\n",
       "      <td>C</td>\n",
       "      <td>C5</td>\n",
       "      <td>Destiny Management Inc.</td>\n",
       "      <td>9 years</td>\n",
       "      <td>MORTGAGE</td>\n",
       "      <td>55000.0</td>\n",
       "      <td>...</td>\n",
       "      <td>0.0</td>\n",
       "      <td>24584.0</td>\n",
       "      <td>69.8</td>\n",
       "      <td>43.0</td>\n",
       "      <td>f</td>\n",
       "      <td>INDIVIDUAL</td>\n",
       "      <td>1.0</td>\n",
       "      <td>0.0</td>\n",
       "      <td>679 Luna Roads\\nGreggshire, VA 11650</td>\n",
       "      <td>0</td>\n",
       "    </tr>\n",
       "  </tbody>\n",
       "</table>\n",
       "<p>5 rows × 28 columns</p>\n",
       "</div>"
      ],
      "text/plain": [
       "   loan_amnt        term  int_rate  installment grade sub_grade  \\\n",
       "0    10000.0   36 months     11.44       329.48     B        B4   \n",
       "1     8000.0   36 months     11.99       265.68     B        B5   \n",
       "2    15600.0   36 months     10.49       506.97     B        B3   \n",
       "3     7200.0   36 months      6.49       220.65     A        A2   \n",
       "4    24375.0   60 months     17.27       609.33     C        C5   \n",
       "\n",
       "                 emp_title emp_length home_ownership  annual_inc  ... pub_rec  \\\n",
       "0                Marketing  10+ years           RENT    117000.0  ...     0.0   \n",
       "1          Credit analyst     4 years       MORTGAGE     65000.0  ...     0.0   \n",
       "2             Statistician   < 1 year           RENT     43057.0  ...     0.0   \n",
       "3          Client Advocate    6 years           RENT     54000.0  ...     0.0   \n",
       "4  Destiny Management Inc.    9 years       MORTGAGE     55000.0  ...     0.0   \n",
       "\n",
       "  revol_bal revol_util total_acc initial_list_status  application_type  \\\n",
       "0   36369.0       41.8      25.0                   w        INDIVIDUAL   \n",
       "1   20131.0       53.3      27.0                   f        INDIVIDUAL   \n",
       "2   11987.0       92.2      26.0                   f        INDIVIDUAL   \n",
       "3    5472.0       21.5      13.0                   f        INDIVIDUAL   \n",
       "4   24584.0       69.8      43.0                   f        INDIVIDUAL   \n",
       "\n",
       "  mort_acc  pub_rec_bankruptcies  \\\n",
       "0      0.0                   0.0   \n",
       "1      3.0                   0.0   \n",
       "2      0.0                   0.0   \n",
       "3      0.0                   0.0   \n",
       "4      1.0                   0.0   \n",
       "\n",
       "                                           address  loan_repaid  \n",
       "0     0174 Michelle Gateway\\nMendozaberg, OK 22690            1  \n",
       "1  1076 Carney Fort Apt. 347\\nLoganmouth, SD 05113            1  \n",
       "2  87025 Mark Dale Apt. 269\\nNew Sabrina, WV 05113            1  \n",
       "3            823 Reid Ford\\nDelacruzside, MA 00813            1  \n",
       "4             679 Luna Roads\\nGreggshire, VA 11650            0  \n",
       "\n",
       "[5 rows x 28 columns]"
      ]
     },
     "execution_count": 56,
     "metadata": {},
     "output_type": "execute_result"
    }
   ],
   "source": [
    "df.head()"
   ]
  },
  {
   "cell_type": "code",
   "execution_count": 57,
   "metadata": {},
   "outputs": [
    {
     "data": {
      "text/plain": [
       "396030"
      ]
     },
     "execution_count": 57,
     "metadata": {},
     "output_type": "execute_result"
    }
   ],
   "source": [
    "'''i will get the lenght of the data'''\n",
    "len(df)"
   ]
  },
  {
   "cell_type": "code",
   "execution_count": 62,
   "metadata": {},
   "outputs": [
    {
     "data": {
      "text/plain": [
       "loan_amnt                   0\n",
       "term                        0\n",
       "int_rate                    0\n",
       "installment                 0\n",
       "grade                       0\n",
       "sub_grade                   0\n",
       "emp_title               22927\n",
       "emp_length              18301\n",
       "home_ownership              0\n",
       "annual_inc                  0\n",
       "verification_status         0\n",
       "issue_d                     0\n",
       "loan_status                 0\n",
       "purpose                     0\n",
       "title                    1755\n",
       "dti                         0\n",
       "earliest_cr_line            0\n",
       "open_acc                    0\n",
       "pub_rec                     0\n",
       "revol_bal                   0\n",
       "revol_util                276\n",
       "total_acc                   0\n",
       "initial_list_status         0\n",
       "application_type            0\n",
       "mort_acc                37795\n",
       "pub_rec_bankruptcies      535\n",
       "address                     0\n",
       "loan_repaid                 0\n",
       "dtype: int64"
      ]
     },
     "execution_count": 62,
     "metadata": {},
     "output_type": "execute_result"
    }
   ],
   "source": [
    "'''i will create a series that displays the total count of missing values per column'''\n",
    "df.isnull().sum()"
   ]
  },
  {
   "cell_type": "code",
   "execution_count": 64,
   "metadata": {},
   "outputs": [
    {
     "data": {
      "text/plain": [
       "loan_amnt               0.000000\n",
       "term                    0.000000\n",
       "int_rate                0.000000\n",
       "installment             0.000000\n",
       "grade                   0.000000\n",
       "sub_grade               0.000000\n",
       "emp_title               5.789208\n",
       "emp_length              4.621115\n",
       "home_ownership          0.000000\n",
       "annual_inc              0.000000\n",
       "verification_status     0.000000\n",
       "issue_d                 0.000000\n",
       "loan_status             0.000000\n",
       "purpose                 0.000000\n",
       "title                   0.443148\n",
       "dti                     0.000000\n",
       "earliest_cr_line        0.000000\n",
       "open_acc                0.000000\n",
       "pub_rec                 0.000000\n",
       "revol_bal               0.000000\n",
       "revol_util              0.069692\n",
       "total_acc               0.000000\n",
       "initial_list_status     0.000000\n",
       "application_type        0.000000\n",
       "mort_acc                9.543469\n",
       "pub_rec_bankruptcies    0.135091\n",
       "address                 0.000000\n",
       "loan_repaid             0.000000\n",
       "dtype: float64"
      ]
     },
     "execution_count": 64,
     "metadata": {},
     "output_type": "execute_result"
    }
   ],
   "source": [
    "'''i will convert the series in term of percentage'''\n",
    "df.isnull().sum() / len(df) * 100"
   ]
  },
  {
   "cell_type": "code",
   "execution_count": 70,
   "metadata": {},
   "outputs": [
    {
     "data": {
      "text/plain": [
       "173105"
      ]
     },
     "execution_count": 70,
     "metadata": {},
     "output_type": "execute_result"
    }
   ],
   "source": [
    "'''i will get the number of uniqure employment job'''\n",
    "df['emp_title'].nunique()"
   ]
  },
  {
   "cell_type": "code",
   "execution_count": 72,
   "metadata": {},
   "outputs": [
    {
     "data": {
      "text/plain": [
       "Teacher                          4389\n",
       "Manager                          4250\n",
       "Registered Nurse                 1856\n",
       "RN                               1846\n",
       "Supervisor                       1830\n",
       "                                 ... \n",
       "Federal Express Corp.               1\n",
       "Licensed Relationship Manager       1\n",
       "U S Airforce                        1\n",
       "km                                  1\n",
       "Barry Byrd Architecture             1\n",
       "Name: emp_title, Length: 173105, dtype: int64"
      ]
     },
     "execution_count": 72,
     "metadata": {},
     "output_type": "execute_result"
    }
   ],
   "source": [
    "'''i will check it with a value count to explore further'''\n",
    "df['emp_title'].value_counts()"
   ]
  },
  {
   "cell_type": "code",
   "execution_count": 73,
   "metadata": {},
   "outputs": [],
   "source": [
    "'''i will remove the job title because there are too many of them to convert to dummy variables'''\n",
    "df = df.drop('emp_title',axis=1)"
   ]
  },
  {
   "cell_type": "code",
   "execution_count": 97,
   "metadata": {},
   "outputs": [
    {
     "data": {
      "text/plain": [
       "['1 year',\n",
       " '10+ years',\n",
       " '2 years',\n",
       " '3 years',\n",
       " '4 years',\n",
       " '5 years',\n",
       " '6 years',\n",
       " '7 years',\n",
       " '8 years',\n",
       " '9 years',\n",
       " '< 1 year']"
      ]
     },
     "execution_count": 97,
     "metadata": {},
     "output_type": "execute_result"
    }
   ],
   "source": [
    "'''i will create a count plot of the emp_length feature'''\n",
    "sorted(df['emp_length'].dropna().unique())"
   ]
  },
  {
   "cell_type": "code",
   "execution_count": 107,
   "metadata": {},
   "outputs": [],
   "source": [
    "emp_length_order = ['< 1 year','1 year',\n",
    " '2 years',\n",
    " '3 years',\n",
    " '4 years',\n",
    " '5 years',\n",
    " '6 years',\n",
    " '7 years',\n",
    " '8 years',\n",
    " '9 years',\n",
    " '10+ years'\n",
    " ]"
   ]
  },
  {
   "cell_type": "code",
   "execution_count": 109,
   "metadata": {},
   "outputs": [
    {
     "data": {
      "text/plain": [
       "<matplotlib.axes._subplots.AxesSubplot at 0x5f88edc370>"
      ]
     },
     "execution_count": 109,
     "metadata": {},
     "output_type": "execute_result"
    },
    {
     "data": {
      "image/png": "[encoded data removed]",
      "text/plain": [
       "<Figure size 864x288 with 1 Axes>"
      ]
     },
     "metadata": {
      "needs_background": "light"
     },
     "output_type": "display_data"
    }
   ],
   "source": [
    "plt.figure(figsize=(12,4))\n",
    "sns.countplot(x='emp_length',data=df,order=emp_length_order,hue='loan_status')"
   ]
  },
  {
   "cell_type": "code",
   "execution_count": 118,
   "metadata": {},
   "outputs": [],
   "source": [
    "'''what percent of people per employment category didn't pay back their loan'''\n",
    "emp_co = df[df['loan_status']=='Charged Off'].groupby('emp_length').count()['loan_status']"
   ]
  },
  {
   "cell_type": "code",
   "execution_count": 119,
   "metadata": {},
   "outputs": [],
   "source": [
    "emp_fp = df[df['loan_status']=='Fully Paid'].groupby('emp_length').count()['loan_status']"
   ]
  },
  {
   "cell_type": "code",
   "execution_count": 121,
   "metadata": {},
   "outputs": [],
   "source": [
    "'''i will find the ratio between them'''\n",
    "emp_c0_fp = emp_co/emp_fp"
   ]
  },
  {
   "cell_type": "code",
   "execution_count": 123,
   "metadata": {},
   "outputs": [
    {
     "data": {
      "text/plain": [
       "<matplotlib.axes._subplots.AxesSubplot at 0x5f8476a400>"
      ]
     },
     "execution_count": 123,
     "metadata": {},
     "output_type": "execute_result"
    },
    {
     "data": {
      "image/png": "[encoded data removed]",
      "text/plain": [
       "<Figure size 432x288 with 1 Axes>"
      ]
     },
     "metadata": {
      "needs_background": "light"
     },
     "output_type": "display_data"
    }
   ],
   "source": [
    "emp_c0_fp.plot(kind='bar')"
   ]
  },
  {
   "cell_type": "code",
   "execution_count": 124,
   "metadata": {},
   "outputs": [],
   "source": [
    "'''since charged off and rates is extremely sililar across the amployment length, i will drop the emp_length column'''\n",
    "df = df.drop('emp_length',axis=1)"
   ]
  },
  {
   "cell_type": "code",
   "execution_count": 125,
   "metadata": {},
   "outputs": [
    {
     "data": {
      "text/plain": [
       "loan_amnt                   0\n",
       "term                        0\n",
       "int_rate                    0\n",
       "installment                 0\n",
       "grade                       0\n",
       "sub_grade                   0\n",
       "home_ownership              0\n",
       "annual_inc                  0\n",
       "verification_status         0\n",
       "issue_d                     0\n",
       "loan_status                 0\n",
       "purpose                     0\n",
       "title                    1755\n",
       "dti                         0\n",
       "earliest_cr_line            0\n",
       "open_acc                    0\n",
       "pub_rec                     0\n",
       "revol_bal                   0\n",
       "revol_util                276\n",
       "total_acc                   0\n",
       "initial_list_status         0\n",
       "application_type            0\n",
       "mort_acc                37795\n",
       "pub_rec_bankruptcies      535\n",
       "address                     0\n",
       "loan_repaid                 0\n",
       "dtype: int64"
      ]
     },
     "execution_count": 125,
     "metadata": {},
     "output_type": "execute_result"
    }
   ],
   "source": [
    "'''i will see the DataFrame if there is still some missing data'''\n",
    "df.isnull().sum()"
   ]
  },
  {
   "cell_type": "code",
   "execution_count": 128,
   "metadata": {},
   "outputs": [
    {
     "data": {
      "text/plain": [
       "0              vacation\n",
       "1    debt_consolidation\n",
       "2           credit_card\n",
       "3           credit_card\n",
       "4           credit_card\n",
       "5    debt_consolidation\n",
       "6      home_improvement\n",
       "7           credit_card\n",
       "8    debt_consolidation\n",
       "9    debt_consolidation\n",
       "Name: purpose, dtype: object"
      ]
     },
     "execution_count": 128,
     "metadata": {},
     "output_type": "execute_result"
    }
   ],
   "source": [
    "'''in here i will review the title column vs the purpose column'''\n",
    "df['purpose'].head(10)"
   ]
  },
  {
   "cell_type": "code",
   "execution_count": 129,
   "metadata": {},
   "outputs": [],
   "source": [
    "'''i will drop the title column because it is simply a string subcategory/description of the purpose column'''\n",
    "df = df.drop('title',axis=1)"
   ]
  },
  {
   "cell_type": "code",
   "execution_count": 134,
   "metadata": {},
   "outputs": [
    {
     "data": {
      "text/plain": [
       "0.0     139777\n",
       "1.0      60416\n",
       "2.0      49948\n",
       "3.0      38049\n",
       "4.0      27887\n",
       "5.0      18194\n",
       "6.0      11069\n",
       "7.0       6052\n",
       "8.0       3121\n",
       "9.0       1656\n",
       "10.0       865\n",
       "11.0       479\n",
       "12.0       264\n",
       "13.0       146\n",
       "14.0       107\n",
       "15.0        61\n",
       "16.0        37\n",
       "17.0        22\n",
       "18.0        18\n",
       "19.0        15\n",
       "20.0        13\n",
       "24.0        10\n",
       "22.0         7\n",
       "21.0         4\n",
       "25.0         4\n",
       "27.0         3\n",
       "23.0         2\n",
       "32.0         2\n",
       "26.0         2\n",
       "31.0         2\n",
       "30.0         1\n",
       "28.0         1\n",
       "34.0         1\n",
       "Name: mort_acc, dtype: int64"
      ]
     },
     "execution_count": 134,
     "metadata": {},
     "output_type": "execute_result"
    }
   ],
   "source": [
    "'''i will create a value_count for the mort_acc column '''\n",
    "df['mort_acc'].value_counts()"
   ]
  },
  {
   "cell_type": "code",
   "execution_count": 138,
   "metadata": {},
   "outputs": [
    {
     "data": {
      "text/plain": [
       "int_rate               -0.082583\n",
       "dti                    -0.025439\n",
       "revol_util              0.007514\n",
       "pub_rec                 0.011552\n",
       "pub_rec_bankruptcies    0.027239\n",
       "loan_repaid             0.073111\n",
       "open_acc                0.109205\n",
       "installment             0.193694\n",
       "revol_bal               0.194925\n",
       "loan_amnt               0.222315\n",
       "annual_inc              0.236320\n",
       "total_acc               0.381072\n",
       "mort_acc                1.000000\n",
       "Name: mort_acc, dtype: float64"
      ]
     },
     "execution_count": 138,
     "metadata": {},
     "output_type": "execute_result"
    }
   ],
   "source": [
    "'''i will review the other columsn to see which most highly correlates to mort_acc'''\n",
    "df.corr()['mort_acc'].sort_values()"
   ]
  },
  {
   "cell_type": "code",
   "execution_count": 140,
   "metadata": {},
   "outputs": [],
   "source": [
    "'''i will group the dataframe by the total_acc and calculate the mean value for the mort_acc per total_acc entry'''\n",
    "total_acc_avg = df.groupby('total_acc').mean()['mort_acc']"
   ]
  },
  {
   "cell_type": "code",
   "execution_count": 148,
   "metadata": {},
   "outputs": [],
   "source": [
    "'''i will fill in the missing mort_acc values based on their total_acc value. If the mort_acc is missing, then i will fill \n",
    "in that missing value with the mean value corresponding to its total_acc value from the Series we created above,I WILL \n",
    "CREATE A FUNCTION FOR THAT\n",
    "'''\n",
    "def fill_mort_acc(total_acc,mort_acc):\n",
    "    \n",
    "    if np.isnan(mort_acc):\n",
    "        return total_acc_avg[total_acc]\n",
    "    else:\n",
    "        return mort_acc"
   ]
  },
  {
   "cell_type": "code",
   "execution_count": 149,
   "metadata": {},
   "outputs": [],
   "source": [
    "'''in here i will apply the function using the .apply() function with the lambda expression'''\n",
    "df['mort_acc'] = df.apply(lambda x: fill_mort_acc(x['total_acc'],x['mort_acc']),axis=1)"
   ]
  },
  {
   "cell_type": "code",
   "execution_count": 151,
   "metadata": {},
   "outputs": [
    {
     "data": {
      "text/plain": [
       "loan_amnt                 0\n",
       "term                      0\n",
       "int_rate                  0\n",
       "installment               0\n",
       "grade                     0\n",
       "sub_grade                 0\n",
       "home_ownership            0\n",
       "annual_inc                0\n",
       "verification_status       0\n",
       "issue_d                   0\n",
       "loan_status               0\n",
       "purpose                   0\n",
       "dti                       0\n",
       "earliest_cr_line          0\n",
       "open_acc                  0\n",
       "pub_rec                   0\n",
       "revol_bal                 0\n",
       "revol_util              276\n",
       "total_acc                 0\n",
       "initial_list_status       0\n",
       "application_type          0\n",
       "mort_acc                  0\n",
       "pub_rec_bankruptcies    535\n",
       "address                   0\n",
       "loan_repaid               0\n",
       "dtype: int64"
      ]
     },
     "execution_count": 151,
     "metadata": {},
     "output_type": "execute_result"
    }
   ],
   "source": [
    "'''i will check if it is fill in here that is if the mort_acc is now zero'''\n",
    "df.isnull().sum()"
   ]
  },
  {
   "cell_type": "code",
   "execution_count": 152,
   "metadata": {},
   "outputs": [],
   "source": [
    "'''from the output 151 we can see two unmissing data which i will drop now'''\n",
    "df = df.dropna()"
   ]
  },
  {
   "cell_type": "code",
   "execution_count": 153,
   "metadata": {},
   "outputs": [
    {
     "data": {
      "text/plain": [
       "loan_amnt               0\n",
       "term                    0\n",
       "int_rate                0\n",
       "installment             0\n",
       "grade                   0\n",
       "sub_grade               0\n",
       "home_ownership          0\n",
       "annual_inc              0\n",
       "verification_status     0\n",
       "issue_d                 0\n",
       "loan_status             0\n",
       "purpose                 0\n",
       "dti                     0\n",
       "earliest_cr_line        0\n",
       "open_acc                0\n",
       "pub_rec                 0\n",
       "revol_bal               0\n",
       "revol_util              0\n",
       "total_acc               0\n",
       "initial_list_status     0\n",
       "application_type        0\n",
       "mort_acc                0\n",
       "pub_rec_bankruptcies    0\n",
       "address                 0\n",
       "loan_repaid             0\n",
       "dtype: int64"
      ]
     },
     "execution_count": 153,
     "metadata": {},
     "output_type": "execute_result"
    }
   ],
   "source": [
    "df.isnull().sum()"
   ]
  },
  {
   "cell_type": "code",
   "execution_count": 154,
   "metadata": {},
   "outputs": [
    {
     "data": {
      "text/plain": [
       "Index(['term', 'grade', 'sub_grade', 'home_ownership', 'verification_status',\n",
       "       'issue_d', 'loan_status', 'purpose', 'earliest_cr_line',\n",
       "       'initial_list_status', 'application_type', 'address'],\n",
       "      dtype='object')"
      ]
     },
     "execution_count": 154,
     "metadata": {},
     "output_type": "execute_result"
    }
   ],
   "source": [
    "''' i will list all the columns that are currently non-numeric'''\n",
    "df.select_dtypes(['object']).columns"
   ]
  },
  {
   "cell_type": "code",
   "execution_count": 156,
   "metadata": {},
   "outputs": [
    {
     "data": {
      "text/plain": [
       " 36 months    301247\n",
       " 60 months     93972\n",
       "Name: term, dtype: int64"
      ]
     },
     "execution_count": 156,
     "metadata": {},
     "output_type": "execute_result"
    }
   ],
   "source": [
    "''' i will convert the term feature into either a 36 or 60 integer numeric data type'''\n",
    "df['term'].value_counts()"
   ]
  },
  {
   "cell_type": "code",
   "execution_count": 157,
   "metadata": {},
   "outputs": [],
   "source": [
    "'''i will use a lambda function for the conversion'''\n",
    "df['term'] = df['term'].apply(lambda term: int(term[:3]))"
   ]
  },
  {
   "cell_type": "code",
   "execution_count": 159,
   "metadata": {},
   "outputs": [
    {
     "data": {
      "text/plain": [
       "36    301247\n",
       "60     93972\n",
       "Name: term, dtype: int64"
      ]
     },
     "execution_count": 159,
     "metadata": {},
     "output_type": "execute_result"
    }
   ],
   "source": [
    "df['term'].value_counts()"
   ]
  },
  {
   "cell_type": "code",
   "execution_count": 160,
   "metadata": {},
   "outputs": [],
   "source": [
    "'''we already know grade is part of sub_grade, so i will just drop the grade feature'''\n",
    "df = df.drop('grade',axis=1)"
   ]
  },
  {
   "cell_type": "code",
   "execution_count": 161,
   "metadata": {},
   "outputs": [],
   "source": [
    "'''i will Convert the subgrade into dummy variables. '''\n",
    "dummies = pd.get_dummies(df['sub_grade'],drop_first=True)"
   ]
  },
  {
   "cell_type": "code",
   "execution_count": 162,
   "metadata": {},
   "outputs": [],
   "source": [
    "'''i will concatenate these new columns to the original dataframe and also drop the sub_grade column since we now have the \n",
    "dummy column'''\n",
    "df = pd.concat([df.drop('sub_grade',axis=1),dummies],axis=1)"
   ]
  },
  {
   "cell_type": "code",
   "execution_count": 165,
   "metadata": {},
   "outputs": [
    {
     "data": {
      "text/plain": [
       "Index(['loan_amnt', 'term', 'int_rate', 'installment', 'home_ownership',\n",
       "       'annual_inc', 'verification_status', 'issue_d', 'loan_status',\n",
       "       'purpose', 'dti', 'earliest_cr_line', 'open_acc', 'pub_rec',\n",
       "       'revol_bal', 'revol_util', 'total_acc', 'initial_list_status',\n",
       "       'application_type', 'mort_acc', 'pub_rec_bankruptcies', 'address',\n",
       "       'loan_repaid', 'A2', 'A3', 'A4', 'A5', 'B1', 'B2', 'B3', 'B4', 'B5',\n",
       "       'C1', 'C2', 'C3', 'C4', 'C5', 'D1', 'D2', 'D3', 'D4', 'D5', 'E1', 'E2',\n",
       "       'E3', 'E4', 'E5', 'F1', 'F2', 'F3', 'F4', 'F5', 'G1', 'G2', 'G3', 'G4',\n",
       "       'G5'],\n",
       "      dtype='object')"
      ]
     },
     "execution_count": 165,
     "metadata": {},
     "output_type": "execute_result"
    }
   ],
   "source": [
    "df.columns"
   ]
  },
  {
   "cell_type": "code",
   "execution_count": 167,
   "metadata": {},
   "outputs": [],
   "source": [
    " '''i will convert these columns: ['verification_status', 'application_type','initial_list_status','purpose'] into dummy \n",
    " variables and concatenate them with the original dataframe.i also set drop_first=True and drop the original columns\n",
    " '''\n",
    "dummies = pd.get_dummies(df[['verification_status', 'application_type','initial_list_status','purpose']],drop_first=True)\n",
    "\n",
    "df = pd.concat([df.drop(['verification_status', 'application_type','initial_list_status','purpose'],axis=1),dummies],axis=1)"
   ]
  },
  {
   "cell_type": "code",
   "execution_count": 168,
   "metadata": {},
   "outputs": [
    {
     "data": {
      "text/plain": [
       "MORTGAGE    198022\n",
       "RENT        159395\n",
       "OWN          37660\n",
       "OTHER          110\n",
       "NONE            29\n",
       "ANY              3\n",
       "Name: home_ownership, dtype: int64"
      ]
     },
     "execution_count": 168,
     "metadata": {},
     "output_type": "execute_result"
    }
   ],
   "source": [
    "'''i will Review the value_counts for the home_ownership column'''\n",
    "df['home_ownership'].value_counts()"
   ]
  },
  {
   "cell_type": "code",
   "execution_count": 169,
   "metadata": {},
   "outputs": [],
   "source": [
    "'''i will replace the NONE and ANY with OTHER'''\n",
    "df['home_ownership'] = df['home_ownership'].replace(['NONE','ANY'],'OTHER')"
   ]
  },
  {
   "cell_type": "code",
   "execution_count": 170,
   "metadata": {},
   "outputs": [],
   "source": [
    "'''i will now convert the 'home_ownership' to dummy variables'''\n",
    "dummies = pd.get_dummies(df['home_ownership'],drop_first=True)\n",
    "\n",
    "df = pd.concat([df.drop('home_ownership',axis=1),dummies],axis=1)"
   ]
  },
  {
   "cell_type": "code",
   "execution_count": 177,
   "metadata": {},
   "outputs": [],
   "source": [
    "'''i will extract the postal code using a lambda function'''\n",
    "df['zip_code'] = df['address'].apply(lambda address:address[-5:])"
   ]
  },
  {
   "cell_type": "code",
   "execution_count": 178,
   "metadata": {},
   "outputs": [],
   "source": [
    "'''i will make this zip_code column into dummy variables'''\n",
    "dummies = pd.get_dummies(df['zip_code'],drop_first=True)\n",
    "\n",
    "df = pd.concat([df.drop('zip_code',axis=1),dummies],axis=1)"
   ]
  },
  {
   "cell_type": "code",
   "execution_count": 179,
   "metadata": {},
   "outputs": [],
   "source": [
    "'''now i will drop the original address column since it will not needed any more'''\n",
    "df = df.drop('address',axis=1)"
   ]
  },
  {
   "cell_type": "code",
   "execution_count": 180,
   "metadata": {},
   "outputs": [],
   "source": [
    "'''i will drop the issue_date'''\n",
    "df = df.drop('issue_d',axis=1)"
   ]
  },
  {
   "cell_type": "code",
   "execution_count": 182,
   "metadata": {},
   "outputs": [],
   "source": [
    "'''i will use the .apply() function to extract the year from 'earliest_cr_line' feature '''\n",
    "df['earliest_cr_line'] = df['earliest_cr_line'].apply(lambda date: int(date[-4:]))"
   ]
  },
  {
   "cell_type": "code",
   "execution_count": 183,
   "metadata": {},
   "outputs": [
    {
     "data": {
      "text/plain": [
       "0         1990\n",
       "1         2004\n",
       "2         2007\n",
       "3         2006\n",
       "4         1999\n",
       "          ... \n",
       "396025    2004\n",
       "396026    2006\n",
       "396027    1997\n",
       "396028    1990\n",
       "396029    1998\n",
       "Name: earliest_cr_line, Length: 395219, dtype: int64"
      ]
     },
     "execution_count": 183,
     "metadata": {},
     "output_type": "execute_result"
    }
   ],
   "source": [
    "df['earliest_cr_line']"
   ]
  },
  {
   "cell_type": "code",
   "execution_count": 184,
   "metadata": {},
   "outputs": [],
   "source": [
    "'''i will train test the data now'''\n",
    "from sklearn.model_selection import train_test_split"
   ]
  },
  {
   "cell_type": "code",
   "execution_count": 185,
   "metadata": {},
   "outputs": [],
   "source": [
    "''' i will drop the load_status column i created earlier, since its a duplicate of the loan_repaid column'''\n",
    "df = df.drop('loan_status',axis=1)"
   ]
  },
  {
   "cell_type": "code",
   "execution_count": 186,
   "metadata": {},
   "outputs": [],
   "source": [
    "'''i will Set X and y variables to the .values of the features and label.'''\n",
    "X = df.drop('loan_repaid',axis=1).values"
   ]
  },
  {
   "cell_type": "code",
   "execution_count": 188,
   "metadata": {},
   "outputs": [],
   "source": [
    "y = df['loan_repaid'].values"
   ]
  },
  {
   "cell_type": "code",
   "execution_count": 189,
   "metadata": {},
   "outputs": [],
   "source": [
    "'''i will perform a train test split'''\n",
    "X_train, X_test, y_train, y_test = train_test_split(X, y, test_size=0.2, random_state=101)"
   ]
  },
  {
   "cell_type": "code",
   "execution_count": 190,
   "metadata": {},
   "outputs": [],
   "source": [
    "'''i will use a MinMaxScaler to normalize the feature data X_train and X_test'''\n",
    "from sklearn.preprocessing import MinMaxScaler"
   ]
  },
  {
   "cell_type": "code",
   "execution_count": 191,
   "metadata": {},
   "outputs": [],
   "source": [
    "'''i will create an instance of the MinMax scaler'''\n",
    "scaler = MinMaxScaler()"
   ]
  },
  {
   "cell_type": "code",
   "execution_count": 192,
   "metadata": {},
   "outputs": [],
   "source": [
    "'''i will start transforming my data here'''\n",
    "X_train = scaler.fit_transform(X_train)"
   ]
  },
  {
   "cell_type": "code",
   "execution_count": 193,
   "metadata": {},
   "outputs": [],
   "source": [
    "X_test = scaler.transform(X_test) #i am not fitting to the x_test to prevent data leakage"
   ]
  },
  {
   "cell_type": "code",
   "execution_count": 194,
   "metadata": {},
   "outputs": [],
   "source": [
    "'''in here i will createa model'''\n",
    "import tensorflow as tf\n",
    "from tensorflow.keras.models import Sequential\n",
    "from tensorflow.keras.layers import Dense,Dropout"
   ]
  },
  {
   "cell_type": "code",
   "execution_count": 196,
   "metadata": {},
   "outputs": [],
   "source": [
    "model = Sequential()\n",
    "\n",
    "model.add(Dense(78, activation=\"relu\"))\n",
    "model.add(Dropout(0.2))\n",
    "\n",
    "model.add(Dense(39, activation=\"relu\"))\n",
    "model.add(Dropout(0.2))\n",
    "\n",
    "model.add(Dense(19, activation=\"relu\"))\n",
    "model.add(Dropout(0.2))\n",
    "\n",
    "#BINARY CLASSIFICATION\n",
    "model.add(Dense(units=1,activation='sigmoid'))\n",
    "\n",
    "model.compile(optimizer='adam',loss='binary_crossentropy')"
   ]
  },
  {
   "cell_type": "code",
   "execution_count": 197,
   "metadata": {},
   "outputs": [
    {
     "data": {
      "text/plain": [
       "(316175, 78)"
      ]
     },
     "execution_count": 197,
     "metadata": {},
     "output_type": "execute_result"
    }
   ],
   "source": [
    "X_train.shape"
   ]
  },
  {
   "cell_type": "code",
   "execution_count": 199,
   "metadata": {},
   "outputs": [
    {
     "name": "stdout",
     "output_type": "stream",
     "text": [
      "Epoch 1/300\n",
      "1236/1236 [==============================] - 3s 3ms/step - loss: 0.2555 - val_loss: 0.2612\n",
      "Epoch 2/300\n",
      "1236/1236 [==============================] - 3s 2ms/step - loss: 0.2557 - val_loss: 0.2613\n",
      "Epoch 3/300\n",
      "1236/1236 [==============================] - 3s 2ms/step - loss: 0.2555 - val_loss: 0.2613\n",
      "Epoch 4/300\n",
      "1236/1236 [==============================] - 3s 2ms/step - loss: 0.2553 - val_loss: 0.2618\n",
      "Epoch 5/300\n",
      "1236/1236 [==============================] - 3s 3ms/step - loss: 0.2552 - val_loss: 0.2612\n",
      "Epoch 6/300\n",
      "1236/1236 [==============================] - 3s 2ms/step - loss: 0.2550 - val_loss: 0.2612\n",
      "Epoch 7/300\n",
      "1236/1236 [==============================] - 3s 2ms/step - loss: 0.2550 - val_loss: 0.2613\n",
      "Epoch 8/300\n",
      "1236/1236 [==============================] - 3s 3ms/step - loss: 0.2550 - val_loss: 0.2614\n",
      "Epoch 9/300\n",
      "1236/1236 [==============================] - 3s 2ms/step - loss: 0.2546 - val_loss: 0.2627\n",
      "Epoch 10/300\n",
      "1236/1236 [==============================] - 3s 3ms/step - loss: 0.2545 - val_loss: 0.2611\n",
      "Epoch 11/300\n",
      "1236/1236 [==============================] - 3s 2ms/step - loss: 0.2542 - val_loss: 0.2608\n",
      "Epoch 12/300\n",
      "1236/1236 [==============================] - 3s 3ms/step - loss: 0.2543 - val_loss: 0.2610\n",
      "Epoch 13/300\n",
      "1236/1236 [==============================] - 3s 2ms/step - loss: 0.2541 - val_loss: 0.2614\n",
      "Epoch 14/300\n",
      "1236/1236 [==============================] - 3s 2ms/step - loss: 0.2542 - val_loss: 0.2613\n",
      "Epoch 15/300\n",
      "1236/1236 [==============================] - 3s 3ms/step - loss: 0.2542 - val_loss: 0.2609\n",
      "Epoch 16/300\n",
      "1236/1236 [==============================] - 3s 3ms/step - loss: 0.2538 - val_loss: 0.2621\n",
      "Epoch 17/300\n",
      "1236/1236 [==============================] - 3s 2ms/step - loss: 0.2537 - val_loss: 0.2609\n",
      "Epoch 18/300\n",
      "1236/1236 [==============================] - 3s 2ms/step - loss: 0.2536 - val_loss: 0.2614\n",
      "Epoch 19/300\n",
      "1236/1236 [==============================] - 3s 2ms/step - loss: 0.2535 - val_loss: 0.2616\n",
      "Epoch 20/300\n",
      "1236/1236 [==============================] - 3s 2ms/step - loss: 0.2534 - val_loss: 0.2609\n",
      "Epoch 21/300\n",
      "1236/1236 [==============================] - 3s 3ms/step - loss: 0.2533 - val_loss: 0.2619\n",
      "Epoch 22/300\n",
      "1236/1236 [==============================] - 3s 3ms/step - loss: 0.2534 - val_loss: 0.2616\n",
      "Epoch 23/300\n",
      "1236/1236 [==============================] - 3s 3ms/step - loss: 0.2532 - val_loss: 0.2614\n",
      "Epoch 24/300\n",
      "1236/1236 [==============================] - 3s 2ms/step - loss: 0.2533 - val_loss: 0.2615\n",
      "Epoch 25/300\n",
      "1236/1236 [==============================] - 3s 2ms/step - loss: 0.2530 - val_loss: 0.2612\n",
      "Epoch 26/300\n",
      "1236/1236 [==============================] - 3s 3ms/step - loss: 0.2529 - val_loss: 0.2614\n",
      "Epoch 27/300\n",
      "1236/1236 [==============================] - 3s 2ms/step - loss: 0.2528 - val_loss: 0.2610\n",
      "Epoch 28/300\n",
      "1236/1236 [==============================] - 3s 2ms/step - loss: 0.2530 - val_loss: 0.2614\n",
      "Epoch 29/300\n",
      "1236/1236 [==============================] - 3s 2ms/step - loss: 0.2529 - val_loss: 0.2612\n",
      "Epoch 30/300\n",
      "1236/1236 [==============================] - 3s 2ms/step - loss: 0.2526 - val_loss: 0.2612\n",
      "Epoch 31/300\n",
      "1236/1236 [==============================] - 3s 3ms/step - loss: 0.2527 - val_loss: 0.2616\n",
      "Epoch 32/300\n",
      "1236/1236 [==============================] - 3s 3ms/step - loss: 0.2525 - val_loss: 0.2618\n",
      "Epoch 33/300\n",
      "1236/1236 [==============================] - 3s 2ms/step - loss: 0.2522 - val_loss: 0.2612\n",
      "Epoch 34/300\n",
      "1236/1236 [==============================] - 3s 3ms/step - loss: 0.2525 - val_loss: 0.2616\n",
      "Epoch 35/300\n",
      "1236/1236 [==============================] - 3s 3ms/step - loss: 0.2525 - val_loss: 0.2608\n",
      "Epoch 36/300\n",
      "1236/1236 [==============================] - 3s 3ms/step - loss: 0.2523 - val_loss: 0.2615\n",
      "Epoch 37/300\n",
      "1236/1236 [==============================] - 3s 2ms/step - loss: 0.2524 - val_loss: 0.2615\n",
      "Epoch 38/300\n",
      "1236/1236 [==============================] - 3s 3ms/step - loss: 0.2523 - val_loss: 0.2622\n",
      "Epoch 39/300\n",
      "1236/1236 [==============================] - 3s 3ms/step - loss: 0.2523 - val_loss: 0.2616\n",
      "Epoch 40/300\n",
      "1236/1236 [==============================] - 3s 3ms/step - loss: 0.2523 - val_loss: 0.2626\n",
      "Epoch 41/300\n",
      "1236/1236 [==============================] - 3s 3ms/step - loss: 0.2521 - val_loss: 0.2619\n",
      "Epoch 42/300\n",
      "1236/1236 [==============================] - 3s 2ms/step - loss: 0.2522 - val_loss: 0.2614\n",
      "Epoch 43/300\n",
      "1236/1236 [==============================] - 3s 3ms/step - loss: 0.2519 - val_loss: 0.2618\n",
      "Epoch 44/300\n",
      "1236/1236 [==============================] - 3s 2ms/step - loss: 0.2519 - val_loss: 0.2617\n",
      "Epoch 45/300\n",
      "1236/1236 [==============================] - 3s 3ms/step - loss: 0.2520 - val_loss: 0.2619\n",
      "Epoch 46/300\n",
      "1236/1236 [==============================] - 3s 3ms/step - loss: 0.2518 - val_loss: 0.2616\n",
      "Epoch 47/300\n",
      "1236/1236 [==============================] - 3s 3ms/step - loss: 0.2519 - val_loss: 0.2621\n",
      "Epoch 48/300\n",
      "1236/1236 [==============================] - 3s 2ms/step - loss: 0.2516 - val_loss: 0.2630\n",
      "Epoch 49/300\n",
      "1236/1236 [==============================] - 3s 3ms/step - loss: 0.2518 - val_loss: 0.2616\n",
      "Epoch 50/300\n",
      "1236/1236 [==============================] - 3s 3ms/step - loss: 0.2516 - val_loss: 0.2624\n",
      "Epoch 51/300\n",
      "1236/1236 [==============================] - 3s 3ms/step - loss: 0.2516 - val_loss: 0.2619\n",
      "Epoch 52/300\n",
      "1236/1236 [==============================] - 3s 2ms/step - loss: 0.2516 - val_loss: 0.2615\n",
      "Epoch 53/300\n",
      "1236/1236 [==============================] - 3s 3ms/step - loss: 0.2513 - val_loss: 0.2615\n",
      "Epoch 54/300\n",
      "1236/1236 [==============================] - 3s 2ms/step - loss: 0.2517 - val_loss: 0.2624\n",
      "Epoch 55/300\n",
      "1236/1236 [==============================] - 3s 3ms/step - loss: 0.2514 - val_loss: 0.2616\n",
      "Epoch 56/300\n",
      "1236/1236 [==============================] - 3s 3ms/step - loss: 0.2514 - val_loss: 0.2615\n",
      "Epoch 57/300\n",
      "1236/1236 [==============================] - 3s 3ms/step - loss: 0.2513 - val_loss: 0.2617\n",
      "Epoch 58/300\n",
      "1236/1236 [==============================] - 3s 3ms/step - loss: 0.2513 - val_loss: 0.2622\n",
      "Epoch 59/300\n",
      "1236/1236 [==============================] - 3s 3ms/step - loss: 0.2510 - val_loss: 0.2621\n",
      "Epoch 60/300\n",
      "1236/1236 [==============================] - 3s 3ms/step - loss: 0.2511 - val_loss: 0.2622\n",
      "Epoch 61/300\n",
      "1236/1236 [==============================] - 3s 3ms/step - loss: 0.2513 - val_loss: 0.2623\n",
      "Epoch 62/300\n",
      "1236/1236 [==============================] - 3s 3ms/step - loss: 0.2511 - val_loss: 0.2615\n",
      "Epoch 63/300\n",
      "1236/1236 [==============================] - 3s 3ms/step - loss: 0.2509 - val_loss: 0.2620\n",
      "Epoch 64/300\n",
      "1236/1236 [==============================] - 3s 3ms/step - loss: 0.2510 - val_loss: 0.2616\n",
      "Epoch 65/300\n",
      "1236/1236 [==============================] - 3s 3ms/step - loss: 0.2509 - val_loss: 0.2622\n",
      "Epoch 66/300\n",
      "1236/1236 [==============================] - 3s 3ms/step - loss: 0.2509 - val_loss: 0.2623\n",
      "Epoch 67/300\n",
      "1236/1236 [==============================] - 3s 3ms/step - loss: 0.2508 - val_loss: 0.2626\n",
      "Epoch 68/300\n",
      "1236/1236 [==============================] - 3s 3ms/step - loss: 0.2508 - val_loss: 0.2622\n",
      "Epoch 69/300\n",
      "1236/1236 [==============================] - 3s 3ms/step - loss: 0.2508 - val_loss: 0.2619\n",
      "Epoch 70/300\n",
      "1236/1236 [==============================] - 3s 3ms/step - loss: 0.2508 - val_loss: 0.2624\n",
      "Epoch 71/300\n",
      "1236/1236 [==============================] - 3s 3ms/step - loss: 0.2506 - val_loss: 0.2631\n",
      "Epoch 72/300\n",
      "1236/1236 [==============================] - 3s 3ms/step - loss: 0.2506 - val_loss: 0.2628\n",
      "Epoch 73/300\n",
      "1236/1236 [==============================] - 3s 3ms/step - loss: 0.2503 - val_loss: 0.2629\n",
      "Epoch 74/300\n",
      "1236/1236 [==============================] - 3s 3ms/step - loss: 0.2505 - val_loss: 0.2628\n",
      "Epoch 75/300\n",
      "1236/1236 [==============================] - 3s 3ms/step - loss: 0.2506 - val_loss: 0.2628\n",
      "Epoch 76/300\n",
      "1236/1236 [==============================] - 3s 3ms/step - loss: 0.2507 - val_loss: 0.2623\n",
      "Epoch 77/300\n",
      "1236/1236 [==============================] - 3s 3ms/step - loss: 0.2501 - val_loss: 0.2633\n",
      "Epoch 78/300\n",
      "1236/1236 [==============================] - 3s 3ms/step - loss: 0.2506 - val_loss: 0.2622\n",
      "Epoch 79/300\n",
      "1236/1236 [==============================] - 3s 3ms/step - loss: 0.2505 - val_loss: 0.2626\n"
     ]
    },
    {
     "name": "stdout",
     "output_type": "stream",
     "text": [
      "Epoch 80/300\n",
      "1236/1236 [==============================] - 3s 2ms/step - loss: 0.2503 - val_loss: 0.2623\n",
      "Epoch 81/300\n",
      "1236/1236 [==============================] - 3s 3ms/step - loss: 0.2503 - val_loss: 0.2627\n",
      "Epoch 82/300\n",
      "1236/1236 [==============================] - 3s 3ms/step - loss: 0.2505 - val_loss: 0.2629\n",
      "Epoch 83/300\n",
      "1236/1236 [==============================] - 3s 2ms/step - loss: 0.2505 - val_loss: 0.2624\n",
      "Epoch 84/300\n",
      "1236/1236 [==============================] - 3s 2ms/step - loss: 0.2501 - val_loss: 0.2622\n",
      "Epoch 85/300\n",
      "1236/1236 [==============================] - 3s 2ms/step - loss: 0.2503 - val_loss: 0.2626\n",
      "Epoch 86/300\n",
      "1236/1236 [==============================] - 3s 2ms/step - loss: 0.2508 - val_loss: 0.2629\n",
      "Epoch 87/300\n",
      "1236/1236 [==============================] - 3s 3ms/step - loss: 0.2502 - val_loss: 0.2625\n",
      "Epoch 88/300\n",
      "1236/1236 [==============================] - 3s 2ms/step - loss: 0.2500 - val_loss: 0.2628\n",
      "Epoch 89/300\n",
      "1236/1236 [==============================] - 3s 2ms/step - loss: 0.2501 - val_loss: 0.2633\n",
      "Epoch 90/300\n",
      "1236/1236 [==============================] - 3s 2ms/step - loss: 0.2499 - val_loss: 0.2631\n",
      "Epoch 91/300\n",
      "1236/1236 [==============================] - 3s 2ms/step - loss: 0.2498 - val_loss: 0.2634\n",
      "Epoch 92/300\n",
      "1236/1236 [==============================] - 3s 3ms/step - loss: 0.2500 - val_loss: 0.2632\n",
      "Epoch 93/300\n",
      "1236/1236 [==============================] - 3s 2ms/step - loss: 0.2501 - val_loss: 0.2627\n",
      "Epoch 94/300\n",
      "1236/1236 [==============================] - 3s 2ms/step - loss: 0.2501 - val_loss: 0.2635\n",
      "Epoch 95/300\n",
      "1236/1236 [==============================] - 3s 2ms/step - loss: 0.2501 - val_loss: 0.2630\n",
      "Epoch 96/300\n",
      "1236/1236 [==============================] - 3s 2ms/step - loss: 0.2499 - val_loss: 0.2628\n",
      "Epoch 97/300\n",
      "1236/1236 [==============================] - 3s 3ms/step - loss: 0.2499 - val_loss: 0.2643\n",
      "Epoch 98/300\n",
      "1236/1236 [==============================] - 3s 2ms/step - loss: 0.2501 - val_loss: 0.2629\n",
      "Epoch 99/300\n",
      "1236/1236 [==============================] - 3s 2ms/step - loss: 0.2500 - val_loss: 0.2636\n",
      "Epoch 100/300\n",
      "1236/1236 [==============================] - 3s 2ms/step - loss: 0.2500 - val_loss: 0.2630\n",
      "Epoch 101/300\n",
      "1236/1236 [==============================] - 3s 2ms/step - loss: 0.2499 - val_loss: 0.2625\n",
      "Epoch 102/300\n",
      "1236/1236 [==============================] - 3s 3ms/step - loss: 0.2500 - val_loss: 0.2635\n",
      "Epoch 103/300\n",
      "1236/1236 [==============================] - 3s 2ms/step - loss: 0.2499 - val_loss: 0.2625\n",
      "Epoch 104/300\n",
      "1236/1236 [==============================] - 3s 2ms/step - loss: 0.2499 - val_loss: 0.2626\n",
      "Epoch 105/300\n",
      "1236/1236 [==============================] - 3s 2ms/step - loss: 0.2499 - val_loss: 0.2634\n",
      "Epoch 106/300\n",
      "1236/1236 [==============================] - 3s 2ms/step - loss: 0.2495 - val_loss: 0.2638\n",
      "Epoch 107/300\n",
      "1236/1236 [==============================] - 3s 3ms/step - loss: 0.2496 - val_loss: 0.2635\n",
      "Epoch 108/300\n",
      "1236/1236 [==============================] - 3s 3ms/step - loss: 0.2496 - val_loss: 0.2635\n",
      "Epoch 109/300\n",
      "1236/1236 [==============================] - 3s 2ms/step - loss: 0.2497 - val_loss: 0.2643\n",
      "Epoch 110/300\n",
      "1236/1236 [==============================] - 3s 2ms/step - loss: 0.2499 - val_loss: 0.2636\n",
      "Epoch 111/300\n",
      "1236/1236 [==============================] - 3s 2ms/step - loss: 0.2493 - val_loss: 0.2637\n",
      "Epoch 112/300\n",
      "1236/1236 [==============================] - 3s 2ms/step - loss: 0.2495 - val_loss: 0.2635\n",
      "Epoch 113/300\n",
      "1236/1236 [==============================] - 3s 3ms/step - loss: 0.2495 - val_loss: 0.2634\n",
      "Epoch 114/300\n",
      "1236/1236 [==============================] - 3s 2ms/step - loss: 0.2497 - val_loss: 0.2634\n",
      "Epoch 115/300\n",
      "1236/1236 [==============================] - 3s 2ms/step - loss: 0.2495 - val_loss: 0.2639\n",
      "Epoch 116/300\n",
      "1236/1236 [==============================] - 3s 2ms/step - loss: 0.2496 - val_loss: 0.2638\n",
      "Epoch 117/300\n",
      "1236/1236 [==============================] - 3s 2ms/step - loss: 0.2494 - val_loss: 0.2631\n",
      "Epoch 118/300\n",
      "1236/1236 [==============================] - 3s 3ms/step - loss: 0.2498 - val_loss: 0.2626\n",
      "Epoch 119/300\n",
      "1236/1236 [==============================] - 3s 2ms/step - loss: 0.2497 - val_loss: 0.2629\n",
      "Epoch 120/300\n",
      "1236/1236 [==============================] - 3s 2ms/step - loss: 0.2496 - val_loss: 0.2636\n",
      "Epoch 121/300\n",
      "1236/1236 [==============================] - 3s 2ms/step - loss: 0.2493 - val_loss: 0.2633\n",
      "Epoch 122/300\n",
      "1236/1236 [==============================] - 3s 2ms/step - loss: 0.2494 - val_loss: 0.2637\n",
      "Epoch 123/300\n",
      "1236/1236 [==============================] - 3s 3ms/step - loss: 0.2495 - val_loss: 0.2638\n",
      "Epoch 124/300\n",
      "1236/1236 [==============================] - 3s 2ms/step - loss: 0.2492 - val_loss: 0.2637\n",
      "Epoch 125/300\n",
      "1236/1236 [==============================] - 3s 2ms/step - loss: 0.2489 - val_loss: 0.2639\n",
      "Epoch 126/300\n",
      "1236/1236 [==============================] - 3s 2ms/step - loss: 0.2495 - val_loss: 0.2638\n",
      "Epoch 127/300\n",
      "1236/1236 [==============================] - 3s 2ms/step - loss: 0.2494 - val_loss: 0.2633\n",
      "Epoch 128/300\n",
      "1236/1236 [==============================] - 3s 3ms/step - loss: 0.2495 - val_loss: 0.2630\n",
      "Epoch 129/300\n",
      "1236/1236 [==============================] - 3s 2ms/step - loss: 0.2493 - val_loss: 0.2631\n",
      "Epoch 130/300\n",
      "1236/1236 [==============================] - 3s 2ms/step - loss: 0.2493 - val_loss: 0.2640\n",
      "Epoch 131/300\n",
      "1236/1236 [==============================] - 3s 3ms/step - loss: 0.2492 - val_loss: 0.2640\n",
      "Epoch 132/300\n",
      "1236/1236 [==============================] - 3s 2ms/step - loss: 0.2491 - val_loss: 0.2635\n",
      "Epoch 133/300\n",
      "1236/1236 [==============================] - 3s 3ms/step - loss: 0.2493 - val_loss: 0.2634\n",
      "Epoch 134/300\n",
      "1236/1236 [==============================] - 3s 3ms/step - loss: 0.2492 - val_loss: 0.2634\n",
      "Epoch 135/300\n",
      "1236/1236 [==============================] - 3s 2ms/step - loss: 0.2493 - val_loss: 0.2637\n",
      "Epoch 136/300\n",
      "1236/1236 [==============================] - 3s 2ms/step - loss: 0.2491 - val_loss: 0.2643\n",
      "Epoch 137/300\n",
      "1236/1236 [==============================] - 3s 2ms/step - loss: 0.2490 - val_loss: 0.2639\n",
      "Epoch 138/300\n",
      "1236/1236 [==============================] - 3s 2ms/step - loss: 0.2490 - val_loss: 0.2641\n",
      "Epoch 139/300\n",
      "1236/1236 [==============================] - 3s 3ms/step - loss: 0.2488 - val_loss: 0.2639\n",
      "Epoch 140/300\n",
      "1236/1236 [==============================] - 3s 2ms/step - loss: 0.2493 - val_loss: 0.2635\n",
      "Epoch 141/300\n",
      "1236/1236 [==============================] - 3s 2ms/step - loss: 0.2488 - val_loss: 0.2643\n",
      "Epoch 142/300\n",
      "1236/1236 [==============================] - 3s 2ms/step - loss: 0.2490 - val_loss: 0.2635\n",
      "Epoch 143/300\n",
      "1236/1236 [==============================] - 3s 2ms/step - loss: 0.2492 - val_loss: 0.2641\n",
      "Epoch 144/300\n",
      "1236/1236 [==============================] - 3s 3ms/step - loss: 0.2492 - val_loss: 0.2642\n",
      "Epoch 145/300\n",
      "1236/1236 [==============================] - 3s 2ms/step - loss: 0.2491 - val_loss: 0.2639\n",
      "Epoch 146/300\n",
      "1236/1236 [==============================] - 3s 2ms/step - loss: 0.2490 - val_loss: 0.2639\n",
      "Epoch 147/300\n",
      "1236/1236 [==============================] - 3s 2ms/step - loss: 0.2484 - val_loss: 0.2644\n",
      "Epoch 148/300\n",
      "1236/1236 [==============================] - 3s 3ms/step - loss: 0.2491 - val_loss: 0.2648\n",
      "Epoch 149/300\n",
      "1236/1236 [==============================] - 3s 3ms/step - loss: 0.2489 - val_loss: 0.2637\n",
      "Epoch 150/300\n",
      "1236/1236 [==============================] - 3s 2ms/step - loss: 0.2488 - val_loss: 0.2636\n",
      "Epoch 151/300\n",
      "1236/1236 [==============================] - 3s 2ms/step - loss: 0.2485 - val_loss: 0.2649\n",
      "Epoch 152/300\n",
      "1236/1236 [==============================] - 3s 2ms/step - loss: 0.2489 - val_loss: 0.2643\n",
      "Epoch 153/300\n",
      "1236/1236 [==============================] - 3s 2ms/step - loss: 0.2488 - val_loss: 0.2638\n",
      "Epoch 154/300\n",
      "1236/1236 [==============================] - 3s 3ms/step - loss: 0.2490 - val_loss: 0.2645\n",
      "Epoch 155/300\n",
      "1236/1236 [==============================] - 3s 2ms/step - loss: 0.2489 - val_loss: 0.2646\n",
      "Epoch 156/300\n",
      "1236/1236 [==============================] - 3s 2ms/step - loss: 0.2487 - val_loss: 0.2649\n",
      "Epoch 157/300\n",
      "1236/1236 [==============================] - 3s 2ms/step - loss: 0.2488 - val_loss: 0.2649\n",
      "Epoch 158/300\n",
      "1236/1236 [==============================] - 3s 2ms/step - loss: 0.2488 - val_loss: 0.2647\n",
      "Epoch 159/300\n",
      "1236/1236 [==============================] - 3s 3ms/step - loss: 0.2486 - val_loss: 0.2647\n",
      "Epoch 160/300\n",
      "1236/1236 [==============================] - 3s 2ms/step - loss: 0.2487 - val_loss: 0.2641\n",
      "Epoch 161/300\n",
      "1236/1236 [==============================] - 3s 2ms/step - loss: 0.2485 - val_loss: 0.2635\n",
      "Epoch 162/300\n",
      "1236/1236 [==============================] - 3s 2ms/step - loss: 0.2486 - val_loss: 0.2646\n",
      "Epoch 163/300\n",
      "1236/1236 [==============================] - 3s 2ms/step - loss: 0.2486 - val_loss: 0.2638\n",
      "Epoch 164/300\n",
      "1236/1236 [==============================] - 3s 2ms/step - loss: 0.2486 - val_loss: 0.2644\n",
      "Epoch 165/300\n",
      "1236/1236 [==============================] - 3s 3ms/step - loss: 0.2487 - val_loss: 0.2643\n",
      "Epoch 166/300\n",
      "1236/1236 [==============================] - 3s 2ms/step - loss: 0.2485 - val_loss: 0.2644\n",
      "Epoch 167/300\n",
      "1236/1236 [==============================] - 3s 2ms/step - loss: 0.2485 - val_loss: 0.2645\n",
      "Epoch 168/300\n",
      "1236/1236 [==============================] - 3s 2ms/step - loss: 0.2486 - val_loss: 0.2639\n",
      "Epoch 169/300\n",
      "1236/1236 [==============================] - 3s 2ms/step - loss: 0.2487 - val_loss: 0.2646\n",
      "Epoch 170/300\n",
      "1236/1236 [==============================] - 3s 3ms/step - loss: 0.2482 - val_loss: 0.2638\n",
      "Epoch 171/300\n",
      "1236/1236 [==============================] - 3s 2ms/step - loss: 0.2486 - val_loss: 0.2650\n",
      "Epoch 172/300\n",
      "1236/1236 [==============================] - 3s 2ms/step - loss: 0.2484 - val_loss: 0.2654\n",
      "Epoch 173/300\n",
      "1236/1236 [==============================] - 3s 2ms/step - loss: 0.2482 - val_loss: 0.2644\n",
      "Epoch 174/300\n",
      "1236/1236 [==============================] - 3s 2ms/step - loss: 0.2484 - val_loss: 0.2657\n",
      "Epoch 175/300\n",
      "1236/1236 [==============================] - 3s 3ms/step - loss: 0.2482 - val_loss: 0.2642\n",
      "Epoch 176/300\n",
      "1236/1236 [==============================] - 3s 3ms/step - loss: 0.2483 - val_loss: 0.2655\n",
      "Epoch 177/300\n",
      "1236/1236 [==============================] - 3s 3ms/step - loss: 0.2485 - val_loss: 0.2663\n",
      "Epoch 178/300\n",
      "1236/1236 [==============================] - 3s 2ms/step - loss: 0.2484 - val_loss: 0.2654\n",
      "Epoch 179/300\n",
      "1236/1236 [==============================] - 3s 2ms/step - loss: 0.2482 - val_loss: 0.2641\n",
      "Epoch 180/300\n",
      "1236/1236 [==============================] - 3s 3ms/step - loss: 0.2483 - val_loss: 0.2644\n",
      "Epoch 181/300\n",
      "1236/1236 [==============================] - 3s 2ms/step - loss: 0.2483 - val_loss: 0.2647\n",
      "Epoch 182/300\n",
      "1236/1236 [==============================] - 3s 2ms/step - loss: 0.2484 - val_loss: 0.2648\n",
      "Epoch 183/300\n",
      "1236/1236 [==============================] - 3s 2ms/step - loss: 0.2480 - val_loss: 0.2647\n",
      "Epoch 184/300\n",
      "1236/1236 [==============================] - 3s 2ms/step - loss: 0.2483 - val_loss: 0.2641\n",
      "Epoch 185/300\n",
      "1236/1236 [==============================] - 3s 2ms/step - loss: 0.2482 - val_loss: 0.2652\n",
      "Epoch 186/300\n",
      "1236/1236 [==============================] - 3s 3ms/step - loss: 0.2480 - val_loss: 0.2642\n",
      "Epoch 187/300\n",
      "1236/1236 [==============================] - 3s 2ms/step - loss: 0.2485 - val_loss: 0.2651\n",
      "Epoch 188/300\n",
      "1236/1236 [==============================] - 3s 2ms/step - loss: 0.2481 - val_loss: 0.2640\n",
      "Epoch 189/300\n",
      "1236/1236 [==============================] - 3s 2ms/step - loss: 0.2485 - val_loss: 0.2649\n",
      "Epoch 190/300\n",
      "1236/1236 [==============================] - 3s 2ms/step - loss: 0.2484 - val_loss: 0.2650\n",
      "Epoch 191/300\n",
      "1236/1236 [==============================] - 3s 3ms/step - loss: 0.2484 - val_loss: 0.2637\n",
      "Epoch 192/300\n",
      "1236/1236 [==============================] - 3s 2ms/step - loss: 0.2483 - val_loss: 0.2642\n",
      "Epoch 193/300\n",
      "1236/1236 [==============================] - 3s 2ms/step - loss: 0.2483 - val_loss: 0.2654\n",
      "Epoch 194/300\n",
      "1236/1236 [==============================] - 3s 2ms/step - loss: 0.2482 - val_loss: 0.2650\n",
      "Epoch 195/300\n",
      "1236/1236 [==============================] - 3s 2ms/step - loss: 0.2485 - val_loss: 0.2648\n",
      "Epoch 196/300\n",
      "1236/1236 [==============================] - 3s 3ms/step - loss: 0.2482 - val_loss: 0.2649\n",
      "Epoch 197/300\n",
      "1236/1236 [==============================] - 3s 2ms/step - loss: 0.2480 - val_loss: 0.2647\n",
      "Epoch 198/300\n",
      "1236/1236 [==============================] - 3s 2ms/step - loss: 0.2482 - val_loss: 0.2648\n",
      "Epoch 199/300\n",
      "1236/1236 [==============================] - 3s 2ms/step - loss: 0.2481 - val_loss: 0.2649\n",
      "Epoch 200/300\n",
      "1236/1236 [==============================] - 3s 2ms/step - loss: 0.2482 - val_loss: 0.2650\n",
      "Epoch 201/300\n",
      "1236/1236 [==============================] - 3s 3ms/step - loss: 0.2479 - val_loss: 0.2654\n",
      "Epoch 202/300\n",
      "1236/1236 [==============================] - 3s 2ms/step - loss: 0.2482 - val_loss: 0.2640\n",
      "Epoch 203/300\n",
      "1236/1236 [==============================] - 3s 2ms/step - loss: 0.2480 - val_loss: 0.2646\n",
      "Epoch 204/300\n",
      "1236/1236 [==============================] - 3s 2ms/step - loss: 0.2478 - val_loss: 0.2657\n",
      "Epoch 205/300\n",
      "1236/1236 [==============================] - 3s 2ms/step - loss: 0.2480 - val_loss: 0.2647\n",
      "Epoch 206/300\n",
      "1236/1236 [==============================] - 3s 3ms/step - loss: 0.2477 - val_loss: 0.2648\n",
      "Epoch 207/300\n",
      "1236/1236 [==============================] - 3s 2ms/step - loss: 0.2485 - val_loss: 0.2648\n",
      "Epoch 208/300\n",
      "1236/1236 [==============================] - 3s 2ms/step - loss: 0.2477 - val_loss: 0.2651\n",
      "Epoch 209/300\n",
      "1236/1236 [==============================] - 3s 2ms/step - loss: 0.2480 - val_loss: 0.2645\n",
      "Epoch 210/300\n",
      "1236/1236 [==============================] - 3s 2ms/step - loss: 0.2480 - val_loss: 0.2648\n",
      "Epoch 211/300\n",
      "1236/1236 [==============================] - 3s 2ms/step - loss: 0.2481 - val_loss: 0.2653\n",
      "Epoch 212/300\n",
      "1236/1236 [==============================] - 3s 3ms/step - loss: 0.2480 - val_loss: 0.2649\n",
      "Epoch 213/300\n",
      "1236/1236 [==============================] - 3s 2ms/step - loss: 0.2479 - val_loss: 0.2642\n",
      "Epoch 214/300\n",
      "1236/1236 [==============================] - 3s 2ms/step - loss: 0.2480 - val_loss: 0.2650\n",
      "Epoch 215/300\n",
      "1236/1236 [==============================] - 3s 2ms/step - loss: 0.2481 - val_loss: 0.2653\n",
      "Epoch 216/300\n",
      "1236/1236 [==============================] - 3s 2ms/step - loss: 0.2477 - val_loss: 0.2659\n",
      "Epoch 217/300\n",
      "1236/1236 [==============================] - 3s 3ms/step - loss: 0.2477 - val_loss: 0.2652\n",
      "Epoch 218/300\n",
      "1236/1236 [==============================] - 3s 2ms/step - loss: 0.2478 - val_loss: 0.2651\n",
      "Epoch 219/300\n",
      "1236/1236 [==============================] - 3s 2ms/step - loss: 0.2480 - val_loss: 0.2650\n",
      "Epoch 220/300\n",
      "1236/1236 [==============================] - 3s 2ms/step - loss: 0.2479 - val_loss: 0.2647\n",
      "Epoch 221/300\n",
      "1236/1236 [==============================] - 3s 2ms/step - loss: 0.2481 - val_loss: 0.2662\n",
      "Epoch 222/300\n",
      "1236/1236 [==============================] - 3s 3ms/step - loss: 0.2477 - val_loss: 0.2653\n",
      "Epoch 223/300\n",
      "1236/1236 [==============================] - 3s 2ms/step - loss: 0.2479 - val_loss: 0.2650\n",
      "Epoch 224/300\n",
      "1236/1236 [==============================] - 3s 2ms/step - loss: 0.2477 - val_loss: 0.2649\n",
      "Epoch 225/300\n",
      "1236/1236 [==============================] - 3s 2ms/step - loss: 0.2476 - val_loss: 0.2646\n",
      "Epoch 226/300\n",
      "1236/1236 [==============================] - 3s 2ms/step - loss: 0.2475 - val_loss: 0.2643\n",
      "Epoch 227/300\n",
      "1236/1236 [==============================] - 3s 3ms/step - loss: 0.2476 - val_loss: 0.2649\n",
      "Epoch 228/300\n",
      "1236/1236 [==============================] - 3s 2ms/step - loss: 0.2480 - val_loss: 0.2649\n",
      "Epoch 229/300\n",
      "1236/1236 [==============================] - 3s 2ms/step - loss: 0.2477 - val_loss: 0.2655\n",
      "Epoch 230/300\n",
      "1236/1236 [==============================] - 3s 2ms/step - loss: 0.2478 - val_loss: 0.2645\n",
      "Epoch 231/300\n",
      "1236/1236 [==============================] - 3s 2ms/step - loss: 0.2480 - val_loss: 0.2654\n",
      "Epoch 232/300\n",
      "1236/1236 [==============================] - 3s 3ms/step - loss: 0.2478 - val_loss: 0.2653\n",
      "Epoch 233/300\n",
      "1236/1236 [==============================] - 3s 2ms/step - loss: 0.2477 - val_loss: 0.2641\n",
      "Epoch 234/300\n",
      "1236/1236 [==============================] - 3s 2ms/step - loss: 0.2476 - val_loss: 0.2644\n",
      "Epoch 235/300\n",
      "1236/1236 [==============================] - 3s 2ms/step - loss: 0.2475 - val_loss: 0.2661\n",
      "Epoch 236/300\n"
     ]
    },
    {
     "name": "stdout",
     "output_type": "stream",
     "text": [
      "1236/1236 [==============================] - 3s 2ms/step - loss: 0.2480 - val_loss: 0.2656\n",
      "Epoch 237/300\n",
      "1236/1236 [==============================] - 3s 3ms/step - loss: 0.2477 - val_loss: 0.2651\n",
      "Epoch 238/300\n",
      "1236/1236 [==============================] - 3s 3ms/step - loss: 0.2474 - val_loss: 0.2656\n",
      "Epoch 239/300\n",
      "1236/1236 [==============================] - 3s 2ms/step - loss: 0.2474 - val_loss: 0.2658\n",
      "Epoch 240/300\n",
      "1236/1236 [==============================] - 3s 2ms/step - loss: 0.2475 - val_loss: 0.2659\n",
      "Epoch 241/300\n",
      "1236/1236 [==============================] - 3s 2ms/step - loss: 0.2475 - val_loss: 0.2662\n",
      "Epoch 242/300\n",
      "1236/1236 [==============================] - 3s 2ms/step - loss: 0.2475 - val_loss: 0.2655\n",
      "Epoch 243/300\n",
      "1236/1236 [==============================] - 3s 3ms/step - loss: 0.2476 - val_loss: 0.2650\n",
      "Epoch 244/300\n",
      "1236/1236 [==============================] - 3s 2ms/step - loss: 0.2476 - val_loss: 0.2663\n",
      "Epoch 245/300\n",
      "1236/1236 [==============================] - 3s 2ms/step - loss: 0.2473 - val_loss: 0.2651\n",
      "Epoch 246/300\n",
      "1236/1236 [==============================] - 3s 2ms/step - loss: 0.2474 - val_loss: 0.2653\n",
      "Epoch 247/300\n",
      "1236/1236 [==============================] - 3s 2ms/step - loss: 0.2477 - val_loss: 0.2655\n",
      "Epoch 248/300\n",
      "1236/1236 [==============================] - 3s 3ms/step - loss: 0.2475 - val_loss: 0.2662\n",
      "Epoch 249/300\n",
      "1236/1236 [==============================] - 3s 2ms/step - loss: 0.2476 - val_loss: 0.2656\n",
      "Epoch 250/300\n",
      "1236/1236 [==============================] - 3s 2ms/step - loss: 0.2475 - val_loss: 0.2661\n",
      "Epoch 251/300\n",
      "1236/1236 [==============================] - 3s 2ms/step - loss: 0.2478 - val_loss: 0.2649\n",
      "Epoch 252/300\n",
      "1236/1236 [==============================] - 3s 2ms/step - loss: 0.2477 - val_loss: 0.2655\n",
      "Epoch 253/300\n",
      "1236/1236 [==============================] - 3s 3ms/step - loss: 0.2476 - val_loss: 0.2658\n",
      "Epoch 254/300\n",
      "1236/1236 [==============================] - 3s 2ms/step - loss: 0.2479 - val_loss: 0.2656\n",
      "Epoch 255/300\n",
      "1236/1236 [==============================] - 3s 2ms/step - loss: 0.2473 - val_loss: 0.2671\n",
      "Epoch 256/300\n",
      "1236/1236 [==============================] - 3s 2ms/step - loss: 0.2474 - val_loss: 0.2672\n",
      "Epoch 257/300\n",
      "1236/1236 [==============================] - 3s 2ms/step - loss: 0.2471 - val_loss: 0.2654\n",
      "Epoch 258/300\n",
      "1236/1236 [==============================] - 3s 3ms/step - loss: 0.2475 - val_loss: 0.2658\n",
      "Epoch 259/300\n",
      "1236/1236 [==============================] - 3s 2ms/step - loss: 0.2472 - val_loss: 0.2655\n",
      "Epoch 260/300\n",
      "1236/1236 [==============================] - 3s 2ms/step - loss: 0.2473 - val_loss: 0.2662\n",
      "Epoch 261/300\n",
      "1236/1236 [==============================] - 3s 2ms/step - loss: 0.2469 - val_loss: 0.2657\n",
      "Epoch 262/300\n",
      "1236/1236 [==============================] - 3s 2ms/step - loss: 0.2473 - val_loss: 0.2654\n",
      "Epoch 263/300\n",
      "1236/1236 [==============================] - 3s 3ms/step - loss: 0.2475 - val_loss: 0.2657\n",
      "Epoch 264/300\n",
      "1236/1236 [==============================] - 3s 3ms/step - loss: 0.2471 - val_loss: 0.2664\n",
      "Epoch 265/300\n",
      "1236/1236 [==============================] - 3s 2ms/step - loss: 0.2475 - val_loss: 0.2657\n",
      "Epoch 266/300\n",
      "1236/1236 [==============================] - 3s 2ms/step - loss: 0.2474 - val_loss: 0.2647\n",
      "Epoch 267/300\n",
      "1236/1236 [==============================] - 3s 2ms/step - loss: 0.2473 - val_loss: 0.2655\n",
      "Epoch 268/300\n",
      "1236/1236 [==============================] - 3s 2ms/step - loss: 0.2473 - val_loss: 0.2660\n",
      "Epoch 269/300\n",
      "1236/1236 [==============================] - 3s 3ms/step - loss: 0.2473 - val_loss: 0.2656\n",
      "Epoch 270/300\n",
      "1236/1236 [==============================] - 3s 2ms/step - loss: 0.2476 - val_loss: 0.2650\n",
      "Epoch 271/300\n",
      "1236/1236 [==============================] - 3s 2ms/step - loss: 0.2472 - val_loss: 0.2655\n",
      "Epoch 272/300\n",
      "1236/1236 [==============================] - 3s 2ms/step - loss: 0.2475 - val_loss: 0.2673\n",
      "Epoch 273/300\n",
      "1236/1236 [==============================] - 3s 2ms/step - loss: 0.2473 - val_loss: 0.2657\n",
      "Epoch 274/300\n",
      "1236/1236 [==============================] - 3s 3ms/step - loss: 0.2475 - val_loss: 0.2657\n",
      "Epoch 275/300\n",
      "1236/1236 [==============================] - 3s 2ms/step - loss: 0.2475 - val_loss: 0.2660\n",
      "Epoch 276/300\n",
      "1236/1236 [==============================] - 3s 2ms/step - loss: 0.2471 - val_loss: 0.2658\n",
      "Epoch 277/300\n",
      "1236/1236 [==============================] - 3s 3ms/step - loss: 0.2473 - val_loss: 0.2649\n",
      "Epoch 278/300\n",
      "1236/1236 [==============================] - 3s 3ms/step - loss: 0.2474 - val_loss: 0.2661\n",
      "Epoch 279/300\n",
      "1236/1236 [==============================] - 3s 3ms/step - loss: 0.2471 - val_loss: 0.2648\n",
      "Epoch 280/300\n",
      "1236/1236 [==============================] - 3s 2ms/step - loss: 0.2476 - val_loss: 0.2656\n",
      "Epoch 281/300\n",
      "1236/1236 [==============================] - 3s 2ms/step - loss: 0.2469 - val_loss: 0.2669\n",
      "Epoch 282/300\n",
      "1236/1236 [==============================] - 3s 2ms/step - loss: 0.2473 - val_loss: 0.2661\n",
      "Epoch 283/300\n",
      "1236/1236 [==============================] - 3s 2ms/step - loss: 0.2470 - val_loss: 0.2673\n",
      "Epoch 284/300\n",
      "1236/1236 [==============================] - 3s 3ms/step - loss: 0.2473 - val_loss: 0.2665\n",
      "Epoch 285/300\n",
      "1236/1236 [==============================] - 3s 2ms/step - loss: 0.2470 - val_loss: 0.2657\n",
      "Epoch 286/300\n",
      "1236/1236 [==============================] - 3s 2ms/step - loss: 0.2469 - val_loss: 0.2658\n",
      "Epoch 287/300\n",
      "1236/1236 [==============================] - 3s 2ms/step - loss: 0.2476 - val_loss: 0.2654\n",
      "Epoch 288/300\n",
      "1236/1236 [==============================] - 3s 2ms/step - loss: 0.2473 - val_loss: 0.2680\n",
      "Epoch 289/300\n",
      "1236/1236 [==============================] - 3s 3ms/step - loss: 0.2473 - val_loss: 0.2674\n",
      "Epoch 290/300\n",
      "1236/1236 [==============================] - 3s 2ms/step - loss: 0.2472 - val_loss: 0.2663\n",
      "Epoch 291/300\n",
      "1236/1236 [==============================] - 3s 2ms/step - loss: 0.2474 - val_loss: 0.2666\n",
      "Epoch 292/300\n",
      "1236/1236 [==============================] - 3s 2ms/step - loss: 0.2472 - val_loss: 0.2662\n",
      "Epoch 293/300\n",
      "1236/1236 [==============================] - 3s 2ms/step - loss: 0.2470 - val_loss: 0.2658\n",
      "Epoch 294/300\n",
      "1236/1236 [==============================] - 3s 3ms/step - loss: 0.2471 - val_loss: 0.2661\n",
      "Epoch 295/300\n",
      "1236/1236 [==============================] - 3s 3ms/step - loss: 0.2473 - val_loss: 0.2661\n",
      "Epoch 296/300\n",
      "1236/1236 [==============================] - 3s 2ms/step - loss: 0.2471 - val_loss: 0.2657\n",
      "Epoch 297/300\n",
      "1236/1236 [==============================] - 3s 3ms/step - loss: 0.2471 - val_loss: 0.2664\n",
      "Epoch 298/300\n",
      "1236/1236 [==============================] - 3s 2ms/step - loss: 0.2474 - val_loss: 0.2659\n",
      "Epoch 299/300\n",
      "1236/1236 [==============================] - 3s 2ms/step - loss: 0.2472 - val_loss: 0.2654\n",
      "Epoch 300/300\n",
      "1236/1236 [==============================] - 3s 3ms/step - loss: 0.2470 - val_loss: 0.2659\n"
     ]
    },
    {
     "data": {
      "text/plain": [
       "<tensorflow.python.keras.callbacks.History at 0x5f9ff63970>"
      ]
     },
     "execution_count": 199,
     "metadata": {},
     "output_type": "execute_result"
    }
   ],
   "source": [
    "'''i will fit the model to the training data'''\n",
    "model.fit(x=X_train,y=y_train,batch_size=256, epochs=300,validation_data=(X_test,y_test))#we are training on x&y train and also checking along our x&y test"
   ]
  },
  {
   "cell_type": "code",
   "execution_count": 200,
   "metadata": {},
   "outputs": [],
   "source": [
    "'''i will save my model here'''\n",
    "from tensorflow.keras.models import load_model\n",
    "#model.save('createdModel')"
   ]
  },
  {
   "cell_type": "code",
   "execution_count": 202,
   "metadata": {},
   "outputs": [],
   "source": [
    "'''i will evaluate the model performance here'''\n",
    "#i will plot out the validation loss versus the training loss\n",
    "losses = pd.DataFrame(model.history.history)"
   ]
  },
  {
   "cell_type": "code",
   "execution_count": 204,
   "metadata": {},
   "outputs": [
    {
     "data": {
      "text/plain": [
       "<matplotlib.axes._subplots.AxesSubplot at 0x5fa0f8c910>"
      ]
     },
     "execution_count": 204,
     "metadata": {},
     "output_type": "execute_result"
    },
    {
     "data": {
      "image/png": "[encoded data removed]",
      "text/plain": [
       "<Figure size 432x288 with 1 Axes>"
      ]
     },
     "metadata": {
      "needs_background": "light"
     },
     "output_type": "display_data"
    }
   ],
   "source": [
    "losses.plot()"
   ]
  },
  {
   "cell_type": "code",
   "execution_count": 205,
   "metadata": {},
   "outputs": [],
   "source": [
    "'''i will create a prediction from the X_test set'''\n",
    "from sklearn.metrics import classification_report,confusion_matrix"
   ]
  },
  {
   "cell_type": "code",
   "execution_count": 206,
   "metadata": {},
   "outputs": [
    {
     "name": "stdout",
     "output_type": "stream",
     "text": [
      "WARNING:tensorflow:From <ipython-input-206-bc83193b8b59>:1: Sequential.predict_classes (from tensorflow.python.keras.engine.sequential) is deprecated and will be removed after 2021-01-01.\n",
      "Instructions for updating:\n",
      "Please use instead:* `np.argmax(model.predict(x), axis=-1)`,   if your model does multi-class classification   (e.g. if it uses a `softmax` last-layer activation).* `(model.predict(x) > 0.5).astype(\"int32\")`,   if your model does binary classification   (e.g. if it uses a `sigmoid` last-layer activation).\n"
     ]
    }
   ],
   "source": [
    "predictions = model.predict_classes(X_test)"
   ]
  },
  {
   "cell_type": "code",
   "execution_count": 207,
   "metadata": {},
   "outputs": [
    {
     "name": "stdout",
     "output_type": "stream",
     "text": [
      "              precision    recall  f1-score   support\n",
      "\n",
      "           0       0.94      0.46      0.62     15658\n",
      "           1       0.88      0.99      0.93     63386\n",
      "\n",
      "    accuracy                           0.89     79044\n",
      "   macro avg       0.91      0.73      0.78     79044\n",
      "weighted avg       0.89      0.89      0.87     79044\n",
      "\n"
     ]
    }
   ],
   "source": [
    "print(classification_report(y_test,predictions))"
   ]
  },
  {
   "cell_type": "code",
   "execution_count": 208,
   "metadata": {},
   "outputs": [
    {
     "data": {
      "text/plain": [
       "1    317696\n",
       "0     77523\n",
       "Name: loan_repaid, dtype: int64"
      ]
     },
     "execution_count": 208,
     "metadata": {},
     "output_type": "execute_result"
    }
   ],
   "source": [
    "'''i will take a look at our original dataFrame'''\n",
    "df['loan_repaid'].value_counts()"
   ]
  },
  {
   "cell_type": "code",
   "execution_count": 209,
   "metadata": {},
   "outputs": [
    {
     "data": {
      "text/plain": [
       "0.8038479931379817"
      ]
     },
     "execution_count": 209,
     "metadata": {},
     "output_type": "execute_result"
    }
   ],
   "source": [
    "'''i will divide the loan repaid by the original length of the dataFrame'''\n",
    "317696/len(df)"
   ]
  },
  {
   "cell_type": "code",
   "execution_count": 210,
   "metadata": {},
   "outputs": [
    {
     "data": {
      "text/plain": [
       "array([[ 7197,  8461],\n",
       "       [  459, 62927]], dtype=int64)"
      ]
     },
     "execution_count": 210,
     "metadata": {},
     "output_type": "execute_result"
    }
   ],
   "source": [
    "'''i will check for the confusion matrix'''\n",
    "confusion_matrix(y_test,predictions)"
   ]
  },
  {
   "cell_type": "markdown",
   "metadata": {},
   "source": [
    "# I will to know if a loan will be given to a particuler customer"
   ]
  },
  {
   "cell_type": "code",
   "execution_count": 211,
   "metadata": {},
   "outputs": [
    {
     "data": {
      "text/plain": [
       "loan_amnt      25000.00\n",
       "term              60.00\n",
       "int_rate          18.24\n",
       "installment      638.11\n",
       "annual_inc     61665.00\n",
       "                 ...   \n",
       "30723              1.00\n",
       "48052              0.00\n",
       "70466              0.00\n",
       "86630              0.00\n",
       "93700              0.00\n",
       "Name: 305323, Length: 78, dtype: float64"
      ]
     },
     "execution_count": 211,
     "metadata": {},
     "output_type": "execute_result"
    }
   ],
   "source": [
    "import random\n",
    "random.seed(101)\n",
    "random_ind = random.randint(0,len(df))\n",
    "\n",
    "new_customer = df.drop('loan_repaid',axis=1).iloc[random_ind]\n",
    "new_customer"
   ]
  },
  {
   "cell_type": "code",
   "execution_count": 213,
   "metadata": {},
   "outputs": [],
   "source": [
    "'''i will convert the customer dataFrame into a Numpy array'''\n",
    "new_customer = scaler.transform(new_customer.values.reshape(1,78))"
   ]
  },
  {
   "cell_type": "code",
   "execution_count": 214,
   "metadata": {},
   "outputs": [
    {
     "data": {
      "text/plain": [
       "array([[0.61538462, 1.        , 0.50331126, 0.40836493, 0.00708257,\n",
       "        0.0030113 , 0.75362319, 0.2       , 0.        , 0.01593446,\n",
       "        0.07340581, 0.29530201, 0.        , 0.        , 0.        ,\n",
       "        0.        , 0.        , 0.        , 0.        , 0.        ,\n",
       "        0.        , 0.        , 0.        , 0.        , 0.        ,\n",
       "        0.        , 0.        , 0.        , 0.        , 0.        ,\n",
       "        0.        , 0.        , 1.        , 0.        , 0.        ,\n",
       "        0.        , 0.        , 0.        , 0.        , 0.        ,\n",
       "        0.        , 0.        , 0.        , 0.        , 0.        ,\n",
       "        0.        , 0.        , 0.        , 0.        , 1.        ,\n",
       "        1.        , 0.        , 0.        , 0.        , 1.        ,\n",
       "        0.        , 0.        , 0.        , 0.        , 0.        ,\n",
       "        0.        , 0.        , 0.        , 0.        , 0.        ,\n",
       "        0.        , 0.        , 0.        , 1.        , 0.        ,\n",
       "        0.        , 0.        , 0.        , 1.        , 0.        ,\n",
       "        0.        , 0.        , 0.        ]])"
      ]
     },
     "execution_count": 214,
     "metadata": {},
     "output_type": "execute_result"
    }
   ],
   "source": [
    "new_customer"
   ]
  },
  {
   "cell_type": "code",
   "execution_count": 215,
   "metadata": {},
   "outputs": [
    {
     "data": {
      "text/plain": [
       "array([[1]])"
      ]
     },
     "execution_count": 215,
     "metadata": {},
     "output_type": "execute_result"
    }
   ],
   "source": [
    "'''i will pass the scaled version of new_customer into a model'''\n",
    "model.predict_classes(new_customer)"
   ]
  },
  {
   "cell_type": "code",
   "execution_count": 217,
   "metadata": {},
   "outputs": [
    {
     "data": {
      "text/plain": [
       "1.0"
      ]
     },
     "execution_count": 217,
     "metadata": {},
     "output_type": "execute_result"
    }
   ],
   "source": [
    "'''i will check if the loan was repaid'''\n",
    "df.iloc[random_ind]['loan_repaid']"
   ]
  },
  {
   "cell_type": "code",
   "execution_count": null,
   "metadata": {},
   "outputs": [],
   "source": []
  }
 ],
 "metadata": {
  "kernelspec": {
   "display_name": "Python 3",
   "language": "python",
   "name": "python3"
  },
  "language_info": {
   "codemirror_mode": {
    "name": "ipython",
    "version": 3
   },
   "file_extension": ".py",
   "mimetype": "text/x-python",
   "name": "python",
   "nbconvert_exporter": "python",
   "pygments_lexer": "ipython3",
   "version": "3.8.3"
  }
 },
 "nbformat": 4,
 "nbformat_minor": 4
}
